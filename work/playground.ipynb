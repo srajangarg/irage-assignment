{
 "cells": [
  {
   "cell_type": "code",
   "execution_count": 84,
   "metadata": {
    "ExecuteTime": {
     "end_time": "2021-08-29T09:57:52.791585Z",
     "start_time": "2021-08-29T09:57:52.787593Z"
    }
   },
   "outputs": [],
   "source": [
    "import importlib\n",
    "import pandas as pd\n",
    "import numpy as np\n",
    "import os\n",
    "import py_vollib_vectorized\n",
    "from datetime import datetime, timedelta\n",
    "import matplotlib.pyplot as plt"
   ]
  },
  {
   "cell_type": "code",
   "execution_count": 93,
   "metadata": {
    "ExecuteTime": {
     "end_time": "2021-08-29T09:59:48.854313Z",
     "start_time": "2021-08-29T09:59:48.840729Z"
    }
   },
   "outputs": [],
   "source": [
    "import classes, utils, iv_models\n",
    "_ = importlib.reload(classes)\n",
    "_ = importlib.reload(utils)\n",
    "_ = importlib.reload(iv_models)\n",
    "\n",
    "\n",
    "from classes import Ticker\n",
    "from utils import create_market_state\n",
    "from iv_models import BasicMidIVPolynomial, MidIV"
   ]
  },
  {
   "cell_type": "code",
   "execution_count": 94,
   "metadata": {
    "ExecuteTime": {
     "end_time": "2021-08-29T09:59:49.881782Z",
     "start_time": "2021-08-29T09:59:49.319568Z"
    }
   },
   "outputs": [
    {
     "name": "stdout",
     "output_type": "stream",
     "text": [
      "loading data from ./data/20210624/influxOP_AXISBANK21JUN_20210624.csv\n",
      "loading data from ./data/20210623/influxOP_AXISBANK21JUN_20210623.csv\n"
     ]
    }
   ],
   "source": [
    "t = Ticker(\"AXISBANK\", expiry_date=\"20210624\")\n",
    "oc1 = t.get_option_chain('20210623 09:30:00')\n",
    "oc2 = t.get_option_chain('20210623 11:30:00')\n",
    "oc1.fit_iv_model(MidIV())\n",
    "oc2.fit_iv_model(MidIV())"
   ]
  },
  {
   "cell_type": "code",
   "execution_count": 111,
   "metadata": {
    "ExecuteTime": {
     "end_time": "2021-08-29T10:15:47.779657Z",
     "start_time": "2021-08-29T10:15:47.731666Z"
    }
   },
   "outputs": [
    {
     "data": {
      "text/html": [
       "<div>\n",
       "<style scoped>\n",
       "    .dataframe tbody tr th:only-of-type {\n",
       "        vertical-align: middle;\n",
       "    }\n",
       "\n",
       "    .dataframe tbody tr th {\n",
       "        vertical-align: top;\n",
       "    }\n",
       "\n",
       "    .dataframe thead th {\n",
       "        text-align: right;\n",
       "    }\n",
       "</style>\n",
       "<table border=\"1\" class=\"dataframe\">\n",
       "  <thead>\n",
       "    <tr style=\"text-align: right;\">\n",
       "      <th></th>\n",
       "      <th>delta</th>\n",
       "      <th>vega</th>\n",
       "      <th>gamma</th>\n",
       "      <th>theta</th>\n",
       "      <th>fit_iv</th>\n",
       "      <th>fit_price</th>\n",
       "    </tr>\n",
       "  </thead>\n",
       "  <tbody>\n",
       "    <tr>\n",
       "      <th>0</th>\n",
       "      <td>-0.426875</td>\n",
       "      <td>18.258711</td>\n",
       "      <td>0.000370</td>\n",
       "      <td>-183.994797</td>\n",
       "      <td>0.227586</td>\n",
       "      <td>334.998764</td>\n",
       "    </tr>\n",
       "    <tr>\n",
       "      <th>1</th>\n",
       "      <td>0.235907</td>\n",
       "      <td>14.330904</td>\n",
       "      <td>0.000277</td>\n",
       "      <td>-125.493105</td>\n",
       "      <td>0.238758</td>\n",
       "      <td>152.494934</td>\n",
       "    </tr>\n",
       "    <tr>\n",
       "      <th>2</th>\n",
       "      <td>0.089938</td>\n",
       "      <td>7.552664</td>\n",
       "      <td>0.000122</td>\n",
       "      <td>-53.150896</td>\n",
       "      <td>0.284916</td>\n",
       "      <td>54.893986</td>\n",
       "    </tr>\n",
       "  </tbody>\n",
       "</table>\n",
       "</div>"
      ],
      "text/plain": [
       "      delta       vega     gamma       theta    fit_iv   fit_price\n",
       "0 -0.426875  18.258711  0.000370 -183.994797  0.227586  334.998764\n",
       "1  0.235907  14.330904  0.000277 -125.493105  0.238758  152.494934\n",
       "2  0.089938   7.552664  0.000122  -53.150896  0.284916   54.893986"
      ]
     },
     "execution_count": 111,
     "metadata": {},
     "output_type": "execute_result"
    }
   ],
   "source": [
    "res1 = oc1.ivs_prices_greeks([74000, 75000, 76000])\n",
    "res1[['delta', 'vega', 'gamma', 'theta', 'fit_iv', 'fit_price']]"
   ]
  },
  {
   "cell_type": "code",
   "execution_count": 112,
   "metadata": {
    "ExecuteTime": {
     "end_time": "2021-08-29T10:16:22.056127Z",
     "start_time": "2021-08-29T10:16:22.051245Z"
    }
   },
   "outputs": [
    {
     "data": {
      "text/plain": [
       "4.155427001646"
      ]
     },
     "execution_count": 112,
     "metadata": {},
     "output_type": "execute_result"
    }
   ],
   "source": []
  },
  {
   "cell_type": "code",
   "execution_count": 108,
   "metadata": {
    "ExecuteTime": {
     "end_time": "2021-08-29T10:04:39.040000Z",
     "start_time": "2021-08-29T10:04:38.983940Z"
    }
   },
   "outputs": [
    {
     "data": {
      "text/html": [
       "<div>\n",
       "<style scoped>\n",
       "    .dataframe tbody tr th:only-of-type {\n",
       "        vertical-align: middle;\n",
       "    }\n",
       "\n",
       "    .dataframe tbody tr th {\n",
       "        vertical-align: top;\n",
       "    }\n",
       "\n",
       "    .dataframe thead th {\n",
       "        text-align: right;\n",
       "    }\n",
       "</style>\n",
       "<table border=\"1\" class=\"dataframe\">\n",
       "  <thead>\n",
       "    <tr style=\"text-align: right;\">\n",
       "      <th></th>\n",
       "      <th>delta</th>\n",
       "      <th>vega</th>\n",
       "      <th>fit_iv</th>\n",
       "      <th>fit_price</th>\n",
       "    </tr>\n",
       "  </thead>\n",
       "  <tbody>\n",
       "    <tr>\n",
       "      <th>0</th>\n",
       "      <td>-0.388038</td>\n",
       "      <td>17.328387</td>\n",
       "      <td>0.215200</td>\n",
       "      <td>267.494164</td>\n",
       "    </tr>\n",
       "    <tr>\n",
       "      <th>1</th>\n",
       "      <td>0.241378</td>\n",
       "      <td>14.099732</td>\n",
       "      <td>0.226588</td>\n",
       "      <td>144.980338</td>\n",
       "    </tr>\n",
       "    <tr>\n",
       "      <th>2</th>\n",
       "      <td>0.078664</td>\n",
       "      <td>6.636267</td>\n",
       "      <td>0.265840</td>\n",
       "      <td>42.464180</td>\n",
       "    </tr>\n",
       "  </tbody>\n",
       "</table>\n",
       "</div>"
      ],
      "text/plain": [
       "      delta       vega    fit_iv   fit_price\n",
       "0 -0.388038  17.328387  0.215200  267.494164\n",
       "1  0.241378  14.099732  0.226588  144.980338\n",
       "2  0.078664   6.636267  0.265840   42.464180"
      ]
     },
     "execution_count": 108,
     "metadata": {},
     "output_type": "execute_result"
    }
   ],
   "source": [
    "res2 = oc2.ivs_prices_greeks([74000, 75000, 76000])\n",
    "res2[['delta', 'vega', 'fit_iv', 'fit_price']]"
   ]
  },
  {
   "cell_type": "code",
   "execution_count": 117,
   "metadata": {
    "ExecuteTime": {
     "end_time": "2021-08-29T10:20:53.618036Z",
     "start_time": "2021-08-29T10:20:53.591959Z"
    }
   },
   "outputs": [
    {
     "data": {
      "text/html": [
       "<div>\n",
       "<style scoped>\n",
       "    .dataframe tbody tr th:only-of-type {\n",
       "        vertical-align: middle;\n",
       "    }\n",
       "\n",
       "    .dataframe tbody tr th {\n",
       "        vertical-align: top;\n",
       "    }\n",
       "\n",
       "    .dataframe thead th {\n",
       "        text-align: right;\n",
       "    }\n",
       "</style>\n",
       "<table border=\"1\" class=\"dataframe\">\n",
       "  <thead>\n",
       "    <tr style=\"text-align: right;\">\n",
       "      <th></th>\n",
       "      <th>level_0</th>\n",
       "      <th>strike</th>\n",
       "      <th>askPrice_1</th>\n",
       "      <th>bidPrice_1</th>\n",
       "      <th>futPrice</th>\n",
       "      <th>spread</th>\n",
       "      <th>time_to_expiry</th>\n",
       "      <th>moneyness</th>\n",
       "      <th>instrument</th>\n",
       "      <th>bid_iv</th>\n",
       "      <th>ask_iv</th>\n",
       "      <th>mid_iv</th>\n",
       "      <th>spread_iv</th>\n",
       "    </tr>\n",
       "  </thead>\n",
       "  <tbody>\n",
       "    <tr>\n",
       "      <th>470</th>\n",
       "      <td>2021-06-23 09:30:00</td>\n",
       "      <td>74000</td>\n",
       "      <td>340.0</td>\n",
       "      <td>330.0</td>\n",
       "      <td>74187.5</td>\n",
       "      <td>10.0</td>\n",
       "      <td>0.003938</td>\n",
       "      <td>-0.002531</td>\n",
       "      <td>p</td>\n",
       "      <td>0.224848</td>\n",
       "      <td>0.230325</td>\n",
       "      <td>0.227586</td>\n",
       "      <td>0.005477</td>\n",
       "    </tr>\n",
       "  </tbody>\n",
       "</table>\n",
       "</div>"
      ],
      "text/plain": [
       "                level_0  strike  askPrice_1  bidPrice_1  futPrice  spread  \\\n",
       "470 2021-06-23 09:30:00   74000       340.0       330.0   74187.5    10.0   \n",
       "\n",
       "     time_to_expiry  moneyness instrument    bid_iv    ask_iv    mid_iv  \\\n",
       "470        0.003938  -0.002531          p  0.224848  0.230325  0.227586   \n",
       "\n",
       "     spread_iv  \n",
       "470   0.005477  "
      ]
     },
     "execution_count": 117,
     "metadata": {},
     "output_type": "execute_result"
    }
   ],
   "source": [
    "oc1.df[oc1.df['strike'] == 74000]"
   ]
  },
  {
   "cell_type": "code",
   "execution_count": 118,
   "metadata": {
    "ExecuteTime": {
     "end_time": "2021-08-29T10:20:53.813254Z",
     "start_time": "2021-08-29T10:20:53.785901Z"
    },
    "scrolled": true
   },
   "outputs": [
    {
     "data": {
      "text/html": [
       "<div>\n",
       "<style scoped>\n",
       "    .dataframe tbody tr th:only-of-type {\n",
       "        vertical-align: middle;\n",
       "    }\n",
       "\n",
       "    .dataframe tbody tr th {\n",
       "        vertical-align: top;\n",
       "    }\n",
       "\n",
       "    .dataframe thead th {\n",
       "        text-align: right;\n",
       "    }\n",
       "</style>\n",
       "<table border=\"1\" class=\"dataframe\">\n",
       "  <thead>\n",
       "    <tr style=\"text-align: right;\">\n",
       "      <th></th>\n",
       "      <th>level_0</th>\n",
       "      <th>strike</th>\n",
       "      <th>askPrice_1</th>\n",
       "      <th>bidPrice_1</th>\n",
       "      <th>futPrice</th>\n",
       "      <th>spread</th>\n",
       "      <th>time_to_expiry</th>\n",
       "      <th>moneyness</th>\n",
       "      <th>instrument</th>\n",
       "      <th>bid_iv</th>\n",
       "      <th>ask_iv</th>\n",
       "      <th>mid_iv</th>\n",
       "      <th>spread_iv</th>\n",
       "    </tr>\n",
       "  </thead>\n",
       "  <tbody>\n",
       "    <tr>\n",
       "      <th>5681</th>\n",
       "      <td>2021-06-23 11:30:00</td>\n",
       "      <td>74000</td>\n",
       "      <td>275.0</td>\n",
       "      <td>260.0</td>\n",
       "      <td>74270.0</td>\n",
       "      <td>15.0</td>\n",
       "      <td>0.003709</td>\n",
       "      <td>-0.003642</td>\n",
       "      <td>p</td>\n",
       "      <td>0.210872</td>\n",
       "      <td>0.219528</td>\n",
       "      <td>0.2152</td>\n",
       "      <td>0.008656</td>\n",
       "    </tr>\n",
       "  </tbody>\n",
       "</table>\n",
       "</div>"
      ],
      "text/plain": [
       "                 level_0  strike  askPrice_1  bidPrice_1  futPrice  spread  \\\n",
       "5681 2021-06-23 11:30:00   74000       275.0       260.0   74270.0    15.0   \n",
       "\n",
       "      time_to_expiry  moneyness instrument    bid_iv    ask_iv  mid_iv  \\\n",
       "5681        0.003709  -0.003642          p  0.210872  0.219528  0.2152   \n",
       "\n",
       "      spread_iv  \n",
       "5681   0.008656  "
      ]
     },
     "execution_count": 118,
     "metadata": {},
     "output_type": "execute_result"
    }
   ],
   "source": [
    "oc2.df[oc2.df['strike'] == 74000]"
   ]
  },
  {
   "cell_type": "code",
   "execution_count": 122,
   "metadata": {
    "ExecuteTime": {
     "end_time": "2021-08-29T10:27:14.346650Z",
     "start_time": "2021-08-29T10:27:14.341122Z"
    }
   },
   "outputs": [
    {
     "data": {
      "text/plain": [
       "261.81845855539996"
      ]
     },
     "execution_count": 122,
     "metadata": {},
     "output_type": "execute_result"
    }
   ],
   "source": [
    "334.998764 + 18.258711 * (0.2152 - 0.227586) * 100 - 35.217181  -0.042049 * 365"
   ]
  },
  {
   "cell_type": "code",
   "execution_count": 11,
   "metadata": {
    "ExecuteTime": {
     "end_time": "2021-08-29T09:08:44.117664Z",
     "start_time": "2021-08-29T09:08:44.110397Z"
    }
   },
   "outputs": [
    {
     "data": {
      "text/plain": [
       "array([29.84387812, -0.11291487,  0.31478401])"
      ]
     },
     "execution_count": 11,
     "metadata": {},
     "output_type": "execute_result"
    }
   ],
   "source": [
    "oc2.iv_parameters()"
   ]
  },
  {
   "cell_type": "code",
   "execution_count": 12,
   "metadata": {
    "ExecuteTime": {
     "end_time": "2021-08-29T09:08:53.661894Z",
     "start_time": "2021-08-29T09:08:53.656778Z"
    }
   },
   "outputs": [
    {
     "data": {
      "text/plain": [
       "array([26.76851682, -0.12406091,  0.33292242])"
      ]
     },
     "execution_count": 12,
     "metadata": {},
     "output_type": "execute_result"
    }
   ],
   "source": [
    "oc1.iv_parameters()"
   ]
  },
  {
   "cell_type": "code",
   "execution_count": 121,
   "metadata": {
    "ExecuteTime": {
     "end_time": "2021-08-29T10:27:04.669596Z",
     "start_time": "2021-08-29T10:27:04.663970Z"
    }
   },
   "outputs": [
    {
     "data": {
      "text/plain": [
       "-15.347885000000002"
      ]
     },
     "execution_count": 121,
     "metadata": {},
     "output_type": "execute_result"
    }
   ],
   "source": [
    "-0.042049 * 365"
   ]
  },
  {
   "cell_type": "code",
   "execution_count": 100,
   "metadata": {
    "ExecuteTime": {
     "end_time": "2021-08-29T10:00:39.392485Z",
     "start_time": "2021-08-29T10:00:39.374089Z"
    }
   },
   "outputs": [
    {
     "name": "stdout",
     "output_type": "stream",
     "text": [
      "delta_diff 0   -35.217181\n",
      "1    19.462351\n",
      "2     7.419909\n",
      "Name: delta, dtype: float64\n",
      "gamma_diff 0    0.000014\n",
      "1    0.000002\n",
      "2   -0.000001\n",
      "dtype: float64\n",
      "theta_diff 0   -0.042049\n",
      "1   -0.028679\n",
      "2   -0.012147\n",
      "Name: theta, dtype: float64\n"
     ]
    }
   ],
   "source": [
    "delta_diff = res1['delta'] * (oc2.future_price() - oc1.future_price()) \n",
    "gamma_diff = res1['gamma'] * (res2['delta'] - res1['delta']) \n",
    "theta_diff = res1['theta'] * (oc1.time_to_expiry() - oc2.time_to_expiry())\n",
    "\n",
    "print(\"delta_diff\", delta_diff)\n",
    "print(\"gamma_diff\", gamma_diff)\n",
    "print(\"theta_diff\", theta_diff)"
   ]
  },
  {
   "cell_type": "code",
   "execution_count": 101,
   "metadata": {
    "ExecuteTime": {
     "end_time": "2021-08-29T10:01:47.529363Z",
     "start_time": "2021-08-29T10:01:47.493319Z"
    }
   },
   "outputs": [
    {
     "data": {
      "text/plain": [
       "0    1.167314\n",
       "1   -0.337600\n",
       "2   -0.440532\n",
       "dtype: float64"
      ]
     },
     "execution_count": 101,
     "metadata": {},
     "output_type": "execute_result"
    }
   ],
   "source": [
    "s = 0\n",
    "\n",
    "for i in range(len(oc1.iv_parameters())):\n",
    "    s += res1['vega'] * res1[f'greek_{i}'] * (oc2.iv_parameters()[i] - oc1.iv_parameters()[i])\n",
    "s"
   ]
  },
  {
   "cell_type": "code",
   "execution_count": 15,
   "metadata": {
    "ExecuteTime": {
     "end_time": "2021-08-29T09:09:53.957255Z",
     "start_time": "2021-08-29T09:09:53.947375Z"
    }
   },
   "outputs": [
    {
     "data": {
      "text/plain": [
       "0.14279781146028075"
      ]
     },
     "execution_count": 15,
     "metadata": {},
     "output_type": "execute_result"
    }
   ],
   "source": [
    "8.010609 * (1.0 * (0.33292242 - 0.31478401) + 0.028021 * (-0.12406091 + 0.11291487) )"
   ]
  },
  {
   "cell_type": "code",
   "execution_count": null,
   "metadata": {},
   "outputs": [],
   "source": []
  }
 ],
 "metadata": {
  "kernelspec": {
   "display_name": "Python 3",
   "language": "python",
   "name": "python3"
  },
  "language_info": {
   "codemirror_mode": {
    "name": "ipython",
    "version": 3
   },
   "file_extension": ".py",
   "mimetype": "text/x-python",
   "name": "python",
   "nbconvert_exporter": "python",
   "pygments_lexer": "ipython3",
   "version": "3.8.5"
  }
 },
 "nbformat": 4,
 "nbformat_minor": 4
}
