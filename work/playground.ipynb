{
 "cells": [
  {
   "cell_type": "code",
   "execution_count": 22,
   "metadata": {
    "ExecuteTime": {
     "end_time": "2021-09-26T05:43:34.257291Z",
     "start_time": "2021-09-26T05:43:34.253728Z"
    }
   },
   "outputs": [],
   "source": [
    "import importlib\n",
    "import pandas as pd\n",
    "import numpy as np\n",
    "from datetime import datetime, timedelta\n",
    "import matplotlib.pyplot as plt"
   ]
  },
  {
   "cell_type": "code",
   "execution_count": 23,
   "metadata": {
    "ExecuteTime": {
     "end_time": "2021-09-26T05:43:34.387768Z",
     "start_time": "2021-09-26T05:43:34.378841Z"
    }
   },
   "outputs": [],
   "source": [
    "import classes, utils, iv_models\n",
    "_ = importlib.reload(classes)\n",
    "_ = importlib.reload(utils)\n",
    "_ = importlib.reload(iv_models)\n",
    "\n",
    "from classes import Ticker, TickerSet, OptionChain\n",
    "from utils import get_errors_for_models\n",
    "from iv_models import BasicMidIVPolynomial, kernel_smoothening"
   ]
  },
  {
   "cell_type": "code",
   "execution_count": null,
   "metadata": {
    "ExecuteTime": {
     "start_time": "2021-09-26T05:43:34.787Z"
    },
    "scrolled": true
   },
   "outputs": [
    {
     "name": "stdout",
     "output_type": "stream",
     "text": [
      "globbing ./data/*/*_AARTIIND21AUG*.csv\n",
      "loading data from ./data/20210805/influxOP_AARTIIND21AUG_20210805.csv\n",
      "2021-08-26 20:00:00\n",
      "loading data from ./data/20210806/influxOP_AARTIIND21AUG_20210806.csv\n",
      "2021-08-26 20:00:00\n",
      "globbing ./data/*/*_ABFRL21AUG*.csv\n",
      "loading data from ./data/20210811/influxOP_ABFRL21AUG_20210811.csv\n",
      "2021-08-26 20:00:00\n",
      "loading data from ./data/20210805/influxOP_ABFRL21AUG_20210805.csv\n",
      "2021-08-26 20:00:00\n",
      "loading data from ./data/20210806/influxOP_ABFRL21AUG_20210806.csv\n",
      "2021-08-26 20:00:00\n",
      "globbing ./data/*/*_ACC21AUG*.csv\n",
      "loading data from ./data/20210805/influxOP_ACC21AUG_20210805.csv\n"
     ]
    }
   ],
   "source": [
    "ts = TickerSet(\"20210805 15:15:00\", \"20210806 10:00:00\")#, tickers=['INDHOTEL', 'INDIGO', 'INDUSINDBK', 'INDUSTOWER', 'INFY', 'IOC'])"
   ]
  },
  {
   "cell_type": "code",
   "execution_count": null,
   "metadata": {
    "ExecuteTime": {
     "start_time": "2021-09-26T05:43:35.942Z"
    }
   },
   "outputs": [],
   "source": [
    "oc_pairs = ts.get_option_chain_pairs()\n",
    "\n",
    "model_1 = BasicMidIVPolynomial(2)\n",
    "model_2 = BasicMidIVPolynomial(2, smoothening=\"kernel_smoothening\")\n",
    "\n",
    "models = [model_1, model_2, model_3]"
   ]
  },
  {
   "cell_type": "code",
   "execution_count": null,
   "metadata": {
    "ExecuteTime": {
     "start_time": "2021-09-26T05:43:36.834Z"
    },
    "scrolled": true
   },
   "outputs": [],
   "source": [
    "model_errors = get_errors_for_models(oc_pairs, models)"
   ]
  },
  {
   "cell_type": "code",
   "execution_count": null,
   "metadata": {
    "ExecuteTime": {
     "start_time": "2021-09-26T05:43:37.566Z"
    }
   },
   "outputs": [],
   "source": [
    "fig, axs = plt.subplots(1, 1)\n",
    "fig.set_size_inches(12, 7)\n",
    "\n",
    "for tickerwise_e, aggregated_e in model_errors:\n",
    "    axs.hist(aggregated_e['ALL'], density=True, bins=20)\n",
    "axs.legend([f'model_{i+1}' for i in range(len(model_errors))])"
   ]
  },
  {
   "cell_type": "code",
   "execution_count": 14,
   "metadata": {
    "ExecuteTime": {
     "end_time": "2021-09-26T04:35:39.510387Z",
     "start_time": "2021-09-26T04:35:39.504441Z"
    }
   },
   "outputs": [
    {
     "data": {
      "text/html": [
       "<div>\n",
       "<style scoped>\n",
       "    .dataframe tbody tr th:only-of-type {\n",
       "        vertical-align: middle;\n",
       "    }\n",
       "\n",
       "    .dataframe tbody tr th {\n",
       "        vertical-align: top;\n",
       "    }\n",
       "\n",
       "    .dataframe thead th {\n",
       "        text-align: right;\n",
       "    }\n",
       "</style>\n",
       "<table border=\"1\" class=\"dataframe\">\n",
       "  <thead>\n",
       "    <tr style=\"text-align: right;\">\n",
       "      <th></th>\n",
       "      <th>model</th>\n",
       "      <th>mae</th>\n",
       "      <th>rmse</th>\n",
       "    </tr>\n",
       "  </thead>\n",
       "  <tbody>\n",
       "    <tr>\n",
       "      <th>0</th>\n",
       "      <td>model_1</td>\n",
       "      <td>0.130821</td>\n",
       "      <td>0.229066</td>\n",
       "    </tr>\n",
       "    <tr>\n",
       "      <th>1</th>\n",
       "      <td>model_2</td>\n",
       "      <td>0.098766</td>\n",
       "      <td>0.186705</td>\n",
       "    </tr>\n",
       "    <tr>\n",
       "      <th>2</th>\n",
       "      <td>model_3</td>\n",
       "      <td>0.098766</td>\n",
       "      <td>0.186705</td>\n",
       "    </tr>\n",
       "  </tbody>\n",
       "</table>\n",
       "</div>"
      ],
      "text/plain": [
       "     model       mae      rmse\n",
       "0  model_1  0.130821  0.229066\n",
       "1  model_2  0.098766  0.186705\n",
       "2  model_3  0.098766  0.186705"
      ]
     },
     "execution_count": 14,
     "metadata": {},
     "output_type": "execute_result"
    }
   ],
   "source": [
    "rows = []\n",
    "for i, (tickerwise_e, aggregated_e) in enumerate(model_errors):\n",
    "    row = {\n",
    "        'model': f'model_{i+1}',\n",
    "        'mae' : np.mean(np.abs(aggregated_e['ALL'])),\n",
    "        'rmse' : np.sqrt(np.mean((aggregated_e['ALL'])**2)),\n",
    "    } \n",
    "    rows.append(row)\n",
    "\n",
    "pd.DataFrame(rows)"
   ]
  },
  {
   "cell_type": "code",
   "execution_count": null,
   "metadata": {},
   "outputs": [],
   "source": []
  },
  {
   "cell_type": "code",
   "execution_count": null,
   "metadata": {},
   "outputs": [],
   "source": []
  },
  {
   "cell_type": "code",
   "execution_count": null,
   "metadata": {},
   "outputs": [],
   "source": []
  },
  {
   "cell_type": "code",
   "execution_count": null,
   "metadata": {},
   "outputs": [],
   "source": []
  },
  {
   "cell_type": "code",
   "execution_count": null,
   "metadata": {},
   "outputs": [],
   "source": []
  },
  {
   "cell_type": "code",
   "execution_count": null,
   "metadata": {},
   "outputs": [],
   "source": []
  },
  {
   "cell_type": "code",
   "execution_count": 8,
   "metadata": {
    "ExecuteTime": {
     "end_time": "2021-09-26T02:17:01.430707Z",
     "start_time": "2021-09-26T02:17:01.300636Z"
    }
   },
   "outputs": [
    {
     "ename": "KeyError",
     "evalue": "'IDEA'",
     "output_type": "error",
     "traceback": [
      "\u001b[0;31m---------------------------------------------------------------------------\u001b[0m",
      "\u001b[0;31mKeyError\u001b[0m                                  Traceback (most recent call last)",
      "\u001b[0;32m<ipython-input-8-199073831b08>\u001b[0m in \u001b[0;36m<module>\u001b[0;34m\u001b[0m\n\u001b[0;32m----> 1\u001b[0;31m \u001b[0mkernel_smoothening\u001b[0m\u001b[0;34m(\u001b[0m\u001b[0moc_pairs\u001b[0m\u001b[0;34m[\u001b[0m\u001b[0;34m'IDEA'\u001b[0m\u001b[0;34m]\u001b[0m\u001b[0;34m[\u001b[0m\u001b[0;36m0\u001b[0m\u001b[0;34m]\u001b[0m\u001b[0;34m)\u001b[0m\u001b[0;34m\u001b[0m\u001b[0;34m\u001b[0m\u001b[0m\n\u001b[0m",
      "\u001b[0;31mKeyError\u001b[0m: 'IDEA'"
     ]
    }
   ],
   "source": [
    "kernel_smoothening(oc_pairs['IDEA'][0])"
   ]
  },
  {
   "cell_type": "code",
   "execution_count": null,
   "metadata": {
    "ExecuteTime": {
     "end_time": "2021-09-26T02:17:01.431855Z",
     "start_time": "2021-09-26T02:13:48.462Z"
    }
   },
   "outputs": [],
   "source": [
    "oc_pairs"
   ]
  },
  {
   "cell_type": "code",
   "execution_count": null,
   "metadata": {},
   "outputs": [],
   "source": []
  }
 ],
 "metadata": {
  "kernelspec": {
   "display_name": "Python 3",
   "language": "python",
   "name": "python3"
  },
  "language_info": {
   "codemirror_mode": {
    "name": "ipython",
    "version": 3
   },
   "file_extension": ".py",
   "mimetype": "text/x-python",
   "name": "python",
   "nbconvert_exporter": "python",
   "pygments_lexer": "ipython3",
   "version": "3.8.5"
  }
 },
 "nbformat": 4,
 "nbformat_minor": 4
}
