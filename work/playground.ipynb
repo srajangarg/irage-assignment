{
 "cells": [
  {
   "cell_type": "code",
   "execution_count": 1,
   "metadata": {
    "ExecuteTime": {
     "end_time": "2021-09-26T10:30:38.666382Z",
     "start_time": "2021-09-26T10:30:38.114730Z"
    }
   },
   "outputs": [],
   "source": [
    "import importlib\n",
    "import pandas as pd\n",
    "import numpy as np\n",
    "from datetime import datetime, timedelta\n",
    "\n",
    "import matplotlib.pyplot as plt"
   ]
  },
  {
   "cell_type": "code",
   "execution_count": 2,
   "metadata": {
    "ExecuteTime": {
     "end_time": "2021-09-26T10:30:39.339109Z",
     "start_time": "2021-09-26T10:30:38.667628Z"
    }
   },
   "outputs": [],
   "source": [
    "import classes, utils, iv_models, svi_class\n",
    "_ = importlib.reload(classes)\n",
    "_ = importlib.reload(utils)\n",
    "_ = importlib.reload(iv_models)\n",
    "_ = importlib.reload(svi_class)\n",
    "\n",
    "from classes import Ticker, TickerSet, OptionChain\n",
    "from utils import get_errors_for_models\n",
    "from iv_models import IVPolynomial, SVIModel, kernel_smoothening\n",
    "from svi_class import SVIClass"
   ]
  },
  {
   "cell_type": "code",
   "execution_count": 3,
   "metadata": {
    "ExecuteTime": {
     "end_time": "2021-09-26T10:30:41.082900Z",
     "start_time": "2021-09-26T10:30:39.340499Z"
    },
    "scrolled": true
   },
   "outputs": [
    {
     "name": "stdout",
     "output_type": "stream",
     "text": [
      "globbing ./data/*/*_HDFCBANK21AUG*.csv\n",
      "loading data from ./data/20210805/influxOP_HDFCBANK21AUG_20210805.csv\n",
      "2021-08-26 20:00:00\n",
      "loading data from ./data/20210806/influxOP_HDFCBANK21AUG_20210806.csv\n",
      "2021-08-26 20:00:00\n"
     ]
    }
   ],
   "source": [
    "# ts = TickerSet(\"20210805 15:15:00\", \"20210806 10:00:00\")#, tickers=['INDHOTEL', 'INDIGO', 'INDUSINDBK', 'INDUSTOWER', 'INFY', 'IOC'])\n",
    "ts = TickerSet(\"20210805 15:15:00\", \"20210806 10:00:00\", tickers=['HDFCBANK'])\n",
    "# ts = TickerSet(\"20210805 15:15:00\", \"20210806 10:00:00\", tickers=['RELIANCE', 'INDHOTEL', 'INDIGO', 'INDUSINDBK', 'INDUSTOWER', 'INFY', 'IOC'])"
   ]
  },
  {
   "cell_type": "code",
   "execution_count": 4,
   "metadata": {
    "ExecuteTime": {
     "end_time": "2021-09-26T10:30:41.085791Z",
     "start_time": "2021-09-26T10:30:41.084144Z"
    }
   },
   "outputs": [],
   "source": [
    "oc_pairs = ts.get_option_chain_pairs()"
   ]
  },
  {
   "cell_type": "code",
   "execution_count": 5,
   "metadata": {
    "ExecuteTime": {
     "end_time": "2021-09-26T10:30:52.749067Z",
     "start_time": "2021-09-26T10:30:41.086739Z"
    }
   },
   "outputs": [
    {
     "data": {
      "text/plain": [
       "array([ 0.00703335,  0.00249007,  0.00512649,  0.00013521, -0.00452367,\n",
       "       -0.00915768, -0.01952967, -0.02042971, -0.01347616, -0.00526578,\n",
       "        0.00525316,  0.00791145,  0.00762851,  0.00627911,  0.00883904,\n",
       "        0.00855545,  0.00594582,  0.00449652,  0.00478387,  0.0052802 ,\n",
       "        0.00132413, -0.01975147])"
      ]
     },
     "execution_count": 5,
     "metadata": {},
     "output_type": "execute_result"
    }
   ],
   "source": [
    "oc1 = oc_pairs['HDFCBANK'][0]\n",
    "oc2 = oc_pairs['HDFCBANK'][1]\n",
    "\n",
    "model1 = SVIModel()\n",
    "model2 = SVIModel()\n",
    "\n",
    "oc1.fit_iv_model(model1)\n",
    "oc2.fit_iv_model(model2)"
   ]
  },
  {
   "cell_type": "code",
   "execution_count": 6,
   "metadata": {
    "ExecuteTime": {
     "end_time": "2021-09-26T10:30:52.752763Z",
     "start_time": "2021-09-26T10:30:52.750514Z"
    }
   },
   "outputs": [
    {
     "data": {
      "text/plain": [
       "([-0.004549704823005055,\n",
       "  0.05262673862364252,\n",
       "  0.09123440941523331,\n",
       "  0.00705375637521115,\n",
       "  0.12112706019212183],\n",
       " [-0.005977401202862068,\n",
       "  0.05528118734613501,\n",
       "  0.10540454553727226,\n",
       "  0.01328848121185711,\n",
       "  0.14535611259196357])"
      ]
     },
     "execution_count": 6,
     "metadata": {},
     "output_type": "execute_result"
    }
   ],
   "source": [
    "model1.params, model2.params"
   ]
  },
  {
   "cell_type": "code",
   "execution_count": 7,
   "metadata": {
    "ExecuteTime": {
     "end_time": "2021-09-26T10:30:52.778040Z",
     "start_time": "2021-09-26T10:30:52.753801Z"
    }
   },
   "outputs": [
    {
     "data": {
      "text/html": [
       "<div>\n",
       "<style scoped>\n",
       "    .dataframe tbody tr th:only-of-type {\n",
       "        vertical-align: middle;\n",
       "    }\n",
       "\n",
       "    .dataframe tbody tr th {\n",
       "        vertical-align: top;\n",
       "    }\n",
       "\n",
       "    .dataframe thead th {\n",
       "        text-align: right;\n",
       "    }\n",
       "</style>\n",
       "<table border=\"1\" class=\"dataframe\">\n",
       "  <thead>\n",
       "    <tr style=\"text-align: right;\">\n",
       "      <th></th>\n",
       "      <th>strike</th>\n",
       "      <th>futPrice</th>\n",
       "      <th>moneyness</th>\n",
       "      <th>instrument</th>\n",
       "      <th>time_to_expiry</th>\n",
       "      <th>fit_iv</th>\n",
       "      <th>delta</th>\n",
       "      <th>gamma</th>\n",
       "      <th>theta</th>\n",
       "      <th>vega</th>\n",
       "      <th>fit_price</th>\n",
       "      <th>moneyness</th>\n",
       "      <th>greek_0</th>\n",
       "      <th>greek_1</th>\n",
       "      <th>greek_2</th>\n",
       "      <th>greek_3</th>\n",
       "      <th>greek_4</th>\n",
       "    </tr>\n",
       "  </thead>\n",
       "  <tbody>\n",
       "    <tr>\n",
       "      <th>0</th>\n",
       "      <td>128077.650432</td>\n",
       "      <td>148805.0</td>\n",
       "      <td>0.150</td>\n",
       "      <td>p</td>\n",
       "      <td>0.058076</td>\n",
       "      <td>0.297327</td>\n",
       "      <td>-0.016616</td>\n",
       "      <td>0.000004</td>\n",
       "      <td>-3795.220240</td>\n",
       "      <td>1482.610549</td>\n",
       "      <td>65.118567</td>\n",
       "      <td>0.150</td>\n",
       "      <td>28.956265</td>\n",
       "      <td>5.328199</td>\n",
       "      <td>-0.239330</td>\n",
       "      <td>1.067653</td>\n",
       "      <td>0.930649</td>\n",
       "    </tr>\n",
       "    <tr>\n",
       "      <th>1</th>\n",
       "      <td>138052.869483</td>\n",
       "      <td>148805.0</td>\n",
       "      <td>0.075</td>\n",
       "      <td>p</td>\n",
       "      <td>0.058076</td>\n",
       "      <td>0.217834</td>\n",
       "      <td>-0.072843</td>\n",
       "      <td>0.000018</td>\n",
       "      <td>-9310.148034</td>\n",
       "      <td>4964.267705</td>\n",
       "      <td>258.853200</td>\n",
       "      <td>0.075</td>\n",
       "      <td>39.523104</td>\n",
       "      <td>5.486476</td>\n",
       "      <td>-0.170670</td>\n",
       "      <td>0.976783</td>\n",
       "      <td>1.722048</td>\n",
       "    </tr>\n",
       "    <tr>\n",
       "      <th>2</th>\n",
       "      <td>148805.000000</td>\n",
       "      <td>148805.0</td>\n",
       "      <td>0.000</td>\n",
       "      <td>p</td>\n",
       "      <td>0.058076</td>\n",
       "      <td>0.176137</td>\n",
       "      <td>-0.491534</td>\n",
       "      <td>0.000063</td>\n",
       "      <td>-21689.681397</td>\n",
       "      <td>14302.984571</td>\n",
       "      <td>2519.661264</td>\n",
       "      <td>0.000</td>\n",
       "      <td>48.879408</td>\n",
       "      <td>5.899193</td>\n",
       "      <td>-0.018145</td>\n",
       "      <td>-0.085142</td>\n",
       "      <td>2.568013</td>\n",
       "    </tr>\n",
       "    <tr>\n",
       "      <th>3</th>\n",
       "      <td>160394.551072</td>\n",
       "      <td>148805.0</td>\n",
       "      <td>-0.075</td>\n",
       "      <td>c</td>\n",
       "      <td>0.058076</td>\n",
       "      <td>0.230497</td>\n",
       "      <td>0.093012</td>\n",
       "      <td>0.000020</td>\n",
       "      <td>-11841.672973</td>\n",
       "      <td>5967.220812</td>\n",
       "      <td>350.713668</td>\n",
       "      <td>-0.075</td>\n",
       "      <td>37.351796</td>\n",
       "      <td>5.419070</td>\n",
       "      <td>0.133562</td>\n",
       "      <td>-1.141029</td>\n",
       "      <td>1.714393</td>\n",
       "    </tr>\n",
       "    <tr>\n",
       "      <th>4</th>\n",
       "      <td>172886.744489</td>\n",
       "      <td>148805.0</td>\n",
       "      <td>-0.150</td>\n",
       "      <td>c</td>\n",
       "      <td>0.058076</td>\n",
       "      <td>0.321344</td>\n",
       "      <td>0.028831</td>\n",
       "      <td>0.000006</td>\n",
       "      <td>-6531.440807</td>\n",
       "      <td>2360.817418</td>\n",
       "      <td>124.589091</td>\n",
       "      <td>-0.150</td>\n",
       "      <td>26.792044</td>\n",
       "      <td>5.369285</td>\n",
       "      <td>0.201551</td>\n",
       "      <td>-1.204356</td>\n",
       "      <td>0.911521</td>\n",
       "    </tr>\n",
       "  </tbody>\n",
       "</table>\n",
       "</div>"
      ],
      "text/plain": [
       "          strike  futPrice  moneyness instrument  time_to_expiry    fit_iv  \\\n",
       "0  128077.650432  148805.0      0.150          p        0.058076  0.297327   \n",
       "1  138052.869483  148805.0      0.075          p        0.058076  0.217834   \n",
       "2  148805.000000  148805.0      0.000          p        0.058076  0.176137   \n",
       "3  160394.551072  148805.0     -0.075          c        0.058076  0.230497   \n",
       "4  172886.744489  148805.0     -0.150          c        0.058076  0.321344   \n",
       "\n",
       "      delta     gamma         theta          vega    fit_price  moneyness  \\\n",
       "0 -0.016616  0.000004  -3795.220240   1482.610549    65.118567      0.150   \n",
       "1 -0.072843  0.000018  -9310.148034   4964.267705   258.853200      0.075   \n",
       "2 -0.491534  0.000063 -21689.681397  14302.984571  2519.661264      0.000   \n",
       "3  0.093012  0.000020 -11841.672973   5967.220812   350.713668     -0.075   \n",
       "4  0.028831  0.000006  -6531.440807   2360.817418   124.589091     -0.150   \n",
       "\n",
       "     greek_0   greek_1   greek_2   greek_3   greek_4  \n",
       "0  28.956265  5.328199 -0.239330  1.067653  0.930649  \n",
       "1  39.523104  5.486476 -0.170670  0.976783  1.722048  \n",
       "2  48.879408  5.899193 -0.018145 -0.085142  2.568013  \n",
       "3  37.351796  5.419070  0.133562 -1.141029  1.714393  \n",
       "4  26.792044  5.369285  0.201551 -1.204356  0.911521  "
      ]
     },
     "execution_count": 7,
     "metadata": {},
     "output_type": "execute_result"
    }
   ],
   "source": [
    "max_moneyness=0.15\n",
    "moneys  = np.linspace(-max_moneyness, max_moneyness, num=int(5))\n",
    "strikes = oc1.future_price() * np.exp(moneys)\n",
    "res1    = oc1.ivs_prices_greeks(strikes)\n",
    "res1"
   ]
  },
  {
   "cell_type": "code",
   "execution_count": 8,
   "metadata": {
    "ExecuteTime": {
     "end_time": "2021-09-26T10:30:52.816740Z",
     "start_time": "2021-09-26T10:30:52.779356Z"
    }
   },
   "outputs": [
    {
     "data": {
      "text/html": [
       "<div>\n",
       "<style scoped>\n",
       "    .dataframe tbody tr th:only-of-type {\n",
       "        vertical-align: middle;\n",
       "    }\n",
       "\n",
       "    .dataframe tbody tr th {\n",
       "        vertical-align: top;\n",
       "    }\n",
       "\n",
       "    .dataframe thead th {\n",
       "        text-align: right;\n",
       "    }\n",
       "</style>\n",
       "<table border=\"1\" class=\"dataframe\">\n",
       "  <thead>\n",
       "    <tr style=\"text-align: right;\">\n",
       "      <th></th>\n",
       "      <th>delta_price</th>\n",
       "      <th>gamma_price</th>\n",
       "      <th>theta_price</th>\n",
       "      <th>vol_0_price</th>\n",
       "      <th>vol_1_price</th>\n",
       "      <th>vol_2_price</th>\n",
       "      <th>vol_3_price</th>\n",
       "      <th>vol_4_price</th>\n",
       "      <th>estimated_price_diff</th>\n",
       "      <th>actual_price_diff</th>\n",
       "      <th>abs_pricing_error</th>\n",
       "      <th>delta_exposure</th>\n",
       "      <th>%_pe_delta_exposure</th>\n",
       "      <th>%_pe_option_price</th>\n",
       "    </tr>\n",
       "    <tr>\n",
       "      <th>moneyness</th>\n",
       "      <th></th>\n",
       "      <th></th>\n",
       "      <th></th>\n",
       "      <th></th>\n",
       "      <th></th>\n",
       "      <th></th>\n",
       "      <th></th>\n",
       "      <th></th>\n",
       "      <th></th>\n",
       "      <th></th>\n",
       "      <th></th>\n",
       "      <th></th>\n",
       "      <th></th>\n",
       "      <th></th>\n",
       "    </tr>\n",
       "  </thead>\n",
       "  <tbody>\n",
       "    <tr>\n",
       "      <th>-0.02</th>\n",
       "      <td>-85.399291</td>\n",
       "      <td>2.055100</td>\n",
       "      <td>-41.825672</td>\n",
       "      <td>-874.924982</td>\n",
       "      <td>197.877976</td>\n",
       "      <td>-12.363545</td>\n",
       "      <td>25.485287</td>\n",
       "      <td>762.617755</td>\n",
       "      <td>-26.477371</td>\n",
       "      <td>53.288260</td>\n",
       "      <td>79.765631</td>\n",
       "      <td>-46634.280464</td>\n",
       "      <td>0.171045</td>\n",
       "      <td>6.023433</td>\n",
       "    </tr>\n",
       "    <tr>\n",
       "      <th>-0.01</th>\n",
       "      <td>-108.660788</td>\n",
       "      <td>2.266552</td>\n",
       "      <td>-44.978931</td>\n",
       "      <td>-964.947163</td>\n",
       "      <td>216.663609</td>\n",
       "      <td>-8.595442</td>\n",
       "      <td>10.685234</td>\n",
       "      <td>853.391422</td>\n",
       "      <td>-44.175508</td>\n",
       "      <td>40.025736</td>\n",
       "      <td>84.201243</td>\n",
       "      <td>-59336.765368</td>\n",
       "      <td>0.141904</td>\n",
       "      <td>4.579153</td>\n",
       "    </tr>\n",
       "    <tr>\n",
       "      <th>0.00</th>\n",
       "      <td>-133.942928</td>\n",
       "      <td>2.344502</td>\n",
       "      <td>-46.421321</td>\n",
       "      <td>-998.133117</td>\n",
       "      <td>223.971961</td>\n",
       "      <td>-3.677507</td>\n",
       "      <td>-7.592508</td>\n",
       "      <td>889.939207</td>\n",
       "      <td>-73.511712</td>\n",
       "      <td>12.205231</td>\n",
       "      <td>85.716943</td>\n",
       "      <td>-73142.669368</td>\n",
       "      <td>0.117191</td>\n",
       "      <td>3.401923</td>\n",
       "    </tr>\n",
       "    <tr>\n",
       "      <th>0.01</th>\n",
       "      <td>113.414988</td>\n",
       "      <td>2.268621</td>\n",
       "      <td>-45.893659</td>\n",
       "      <td>-965.828236</td>\n",
       "      <td>218.057185</td>\n",
       "      <td>1.486323</td>\n",
       "      <td>-25.648427</td>\n",
       "      <td>862.339920</td>\n",
       "      <td>160.196717</td>\n",
       "      <td>243.969440</td>\n",
       "      <td>83.772723</td>\n",
       "      <td>61932.907698</td>\n",
       "      <td>0.135264</td>\n",
       "      <td>4.453415</td>\n",
       "    </tr>\n",
       "    <tr>\n",
       "      <th>0.02</th>\n",
       "      <td>90.497624</td>\n",
       "      <td>2.065621</td>\n",
       "      <td>-43.658276</td>\n",
       "      <td>-879.404192</td>\n",
       "      <td>201.106172</td>\n",
       "      <td>5.946712</td>\n",
       "      <td>-39.917825</td>\n",
       "      <td>780.960387</td>\n",
       "      <td>117.596224</td>\n",
       "      <td>196.052033</td>\n",
       "      <td>78.455809</td>\n",
       "      <td>49418.344753</td>\n",
       "      <td>0.158758</td>\n",
       "      <td>5.623058</td>\n",
       "    </tr>\n",
       "  </tbody>\n",
       "</table>\n",
       "</div>"
      ],
      "text/plain": [
       "           delta_price  gamma_price  theta_price  vol_0_price  vol_1_price  \\\n",
       "moneyness                                                                    \n",
       "-0.02       -85.399291     2.055100   -41.825672  -874.924982   197.877976   \n",
       "-0.01      -108.660788     2.266552   -44.978931  -964.947163   216.663609   \n",
       " 0.00      -133.942928     2.344502   -46.421321  -998.133117   223.971961   \n",
       " 0.01       113.414988     2.268621   -45.893659  -965.828236   218.057185   \n",
       " 0.02        90.497624     2.065621   -43.658276  -879.404192   201.106172   \n",
       "\n",
       "           vol_2_price  vol_3_price  vol_4_price  estimated_price_diff  \\\n",
       "moneyness                                                                \n",
       "-0.02       -12.363545    25.485287   762.617755            -26.477371   \n",
       "-0.01        -8.595442    10.685234   853.391422            -44.175508   \n",
       " 0.00        -3.677507    -7.592508   889.939207            -73.511712   \n",
       " 0.01         1.486323   -25.648427   862.339920            160.196717   \n",
       " 0.02         5.946712   -39.917825   780.960387            117.596224   \n",
       "\n",
       "           actual_price_diff  abs_pricing_error  delta_exposure  \\\n",
       "moneyness                                                         \n",
       "-0.02              53.288260          79.765631   -46634.280464   \n",
       "-0.01              40.025736          84.201243   -59336.765368   \n",
       " 0.00              12.205231          85.716943   -73142.669368   \n",
       " 0.01             243.969440          83.772723    61932.907698   \n",
       " 0.02             196.052033          78.455809    49418.344753   \n",
       "\n",
       "           %_pe_delta_exposure  %_pe_option_price  \n",
       "moneyness                                          \n",
       "-0.02                 0.171045           6.023433  \n",
       "-0.01                 0.141904           4.579153  \n",
       " 0.00                 0.117191           3.401923  \n",
       " 0.01                 0.135264           4.453415  \n",
       " 0.02                 0.158758           5.623058  "
      ]
     },
     "execution_count": 8,
     "metadata": {},
     "output_type": "execute_result"
    }
   ],
   "source": [
    "oc1.estimate_price_diff_df(oc2, max_moneyness=0.02)"
   ]
  },
  {
   "cell_type": "code",
   "execution_count": 13,
   "metadata": {
    "ExecuteTime": {
     "end_time": "2021-09-26T10:32:15.592259Z",
     "start_time": "2021-09-26T10:32:15.524459Z"
    }
   },
   "outputs": [],
   "source": [
    "df = oc1.estimate_price_diff_df(oc2, max_moneyness=0.02)\n",
    "df['vol_prices'] = df['vol_0_price'] +  df['vol_1_price'] +  df['vol_2_price'] +  df['vol_3_price'] +  df['vol_4_price']\n",
    "df['wout_vol'] = df['delta_price'] + df['gamma_price'] + df['theta_price']\n",
    "df['fac'] = (df['actual_price_diff'] - df['wout_vol'])/df['vol_prices']\n",
    "df['vol_would_be'] = (df['actual_price_diff'] - df['wout_vol'])"
   ]
  },
  {
   "cell_type": "code",
   "execution_count": 14,
   "metadata": {
    "ExecuteTime": {
     "end_time": "2021-09-26T10:32:15.900404Z",
     "start_time": "2021-09-26T10:32:15.871741Z"
    }
   },
   "outputs": [
    {
     "data": {
      "text/html": [
       "<div>\n",
       "<style scoped>\n",
       "    .dataframe tbody tr th:only-of-type {\n",
       "        vertical-align: middle;\n",
       "    }\n",
       "\n",
       "    .dataframe tbody tr th {\n",
       "        vertical-align: top;\n",
       "    }\n",
       "\n",
       "    .dataframe thead th {\n",
       "        text-align: right;\n",
       "    }\n",
       "</style>\n",
       "<table border=\"1\" class=\"dataframe\">\n",
       "  <thead>\n",
       "    <tr style=\"text-align: right;\">\n",
       "      <th></th>\n",
       "      <th>delta_price</th>\n",
       "      <th>gamma_price</th>\n",
       "      <th>theta_price</th>\n",
       "      <th>vol_0_price</th>\n",
       "      <th>vol_1_price</th>\n",
       "      <th>vol_2_price</th>\n",
       "      <th>vol_3_price</th>\n",
       "      <th>vol_4_price</th>\n",
       "      <th>estimated_price_diff</th>\n",
       "      <th>actual_price_diff</th>\n",
       "      <th>abs_pricing_error</th>\n",
       "      <th>delta_exposure</th>\n",
       "      <th>%_pe_delta_exposure</th>\n",
       "      <th>%_pe_option_price</th>\n",
       "      <th>vol_prices</th>\n",
       "      <th>wout_vol</th>\n",
       "      <th>fac</th>\n",
       "      <th>vol_would_be</th>\n",
       "    </tr>\n",
       "    <tr>\n",
       "      <th>moneyness</th>\n",
       "      <th></th>\n",
       "      <th></th>\n",
       "      <th></th>\n",
       "      <th></th>\n",
       "      <th></th>\n",
       "      <th></th>\n",
       "      <th></th>\n",
       "      <th></th>\n",
       "      <th></th>\n",
       "      <th></th>\n",
       "      <th></th>\n",
       "      <th></th>\n",
       "      <th></th>\n",
       "      <th></th>\n",
       "      <th></th>\n",
       "      <th></th>\n",
       "      <th></th>\n",
       "      <th></th>\n",
       "    </tr>\n",
       "  </thead>\n",
       "  <tbody>\n",
       "    <tr>\n",
       "      <th>-0.02</th>\n",
       "      <td>-85.399291</td>\n",
       "      <td>2.055100</td>\n",
       "      <td>-41.825672</td>\n",
       "      <td>-874.924982</td>\n",
       "      <td>197.877976</td>\n",
       "      <td>-12.363545</td>\n",
       "      <td>25.485287</td>\n",
       "      <td>762.617755</td>\n",
       "      <td>-26.477371</td>\n",
       "      <td>53.288260</td>\n",
       "      <td>79.765631</td>\n",
       "      <td>-46634.280464</td>\n",
       "      <td>0.171045</td>\n",
       "      <td>6.023433</td>\n",
       "      <td>98.692492</td>\n",
       "      <td>-125.169862</td>\n",
       "      <td>1.808224</td>\n",
       "      <td>178.458122</td>\n",
       "    </tr>\n",
       "    <tr>\n",
       "      <th>-0.01</th>\n",
       "      <td>-108.660788</td>\n",
       "      <td>2.266552</td>\n",
       "      <td>-44.978931</td>\n",
       "      <td>-964.947163</td>\n",
       "      <td>216.663609</td>\n",
       "      <td>-8.595442</td>\n",
       "      <td>10.685234</td>\n",
       "      <td>853.391422</td>\n",
       "      <td>-44.175508</td>\n",
       "      <td>40.025736</td>\n",
       "      <td>84.201243</td>\n",
       "      <td>-59336.765368</td>\n",
       "      <td>0.141904</td>\n",
       "      <td>4.579153</td>\n",
       "      <td>107.197660</td>\n",
       "      <td>-151.373168</td>\n",
       "      <td>1.785477</td>\n",
       "      <td>191.398903</td>\n",
       "    </tr>\n",
       "    <tr>\n",
       "      <th>0.00</th>\n",
       "      <td>-133.942928</td>\n",
       "      <td>2.344502</td>\n",
       "      <td>-46.421321</td>\n",
       "      <td>-998.133117</td>\n",
       "      <td>223.971961</td>\n",
       "      <td>-3.677507</td>\n",
       "      <td>-7.592508</td>\n",
       "      <td>889.939207</td>\n",
       "      <td>-73.511712</td>\n",
       "      <td>12.205231</td>\n",
       "      <td>85.716943</td>\n",
       "      <td>-73142.669368</td>\n",
       "      <td>0.117191</td>\n",
       "      <td>3.401923</td>\n",
       "      <td>104.508035</td>\n",
       "      <td>-178.019747</td>\n",
       "      <td>1.820195</td>\n",
       "      <td>190.224978</td>\n",
       "    </tr>\n",
       "    <tr>\n",
       "      <th>0.01</th>\n",
       "      <td>113.414988</td>\n",
       "      <td>2.268621</td>\n",
       "      <td>-45.893659</td>\n",
       "      <td>-965.828236</td>\n",
       "      <td>218.057185</td>\n",
       "      <td>1.486323</td>\n",
       "      <td>-25.648427</td>\n",
       "      <td>862.339920</td>\n",
       "      <td>160.196717</td>\n",
       "      <td>243.969440</td>\n",
       "      <td>83.772723</td>\n",
       "      <td>61932.907698</td>\n",
       "      <td>0.135264</td>\n",
       "      <td>4.453415</td>\n",
       "      <td>90.406766</td>\n",
       "      <td>69.789951</td>\n",
       "      <td>1.926620</td>\n",
       "      <td>174.179488</td>\n",
       "    </tr>\n",
       "    <tr>\n",
       "      <th>0.02</th>\n",
       "      <td>90.497624</td>\n",
       "      <td>2.065621</td>\n",
       "      <td>-43.658276</td>\n",
       "      <td>-879.404192</td>\n",
       "      <td>201.106172</td>\n",
       "      <td>5.946712</td>\n",
       "      <td>-39.917825</td>\n",
       "      <td>780.960387</td>\n",
       "      <td>117.596224</td>\n",
       "      <td>196.052033</td>\n",
       "      <td>78.455809</td>\n",
       "      <td>49418.344753</td>\n",
       "      <td>0.158758</td>\n",
       "      <td>5.623058</td>\n",
       "      <td>68.691255</td>\n",
       "      <td>48.904969</td>\n",
       "      <td>2.142151</td>\n",
       "      <td>147.147064</td>\n",
       "    </tr>\n",
       "  </tbody>\n",
       "</table>\n",
       "</div>"
      ],
      "text/plain": [
       "           delta_price  gamma_price  theta_price  vol_0_price  vol_1_price  \\\n",
       "moneyness                                                                    \n",
       "-0.02       -85.399291     2.055100   -41.825672  -874.924982   197.877976   \n",
       "-0.01      -108.660788     2.266552   -44.978931  -964.947163   216.663609   \n",
       " 0.00      -133.942928     2.344502   -46.421321  -998.133117   223.971961   \n",
       " 0.01       113.414988     2.268621   -45.893659  -965.828236   218.057185   \n",
       " 0.02        90.497624     2.065621   -43.658276  -879.404192   201.106172   \n",
       "\n",
       "           vol_2_price  vol_3_price  vol_4_price  estimated_price_diff  \\\n",
       "moneyness                                                                \n",
       "-0.02       -12.363545    25.485287   762.617755            -26.477371   \n",
       "-0.01        -8.595442    10.685234   853.391422            -44.175508   \n",
       " 0.00        -3.677507    -7.592508   889.939207            -73.511712   \n",
       " 0.01         1.486323   -25.648427   862.339920            160.196717   \n",
       " 0.02         5.946712   -39.917825   780.960387            117.596224   \n",
       "\n",
       "           actual_price_diff  abs_pricing_error  delta_exposure  \\\n",
       "moneyness                                                         \n",
       "-0.02              53.288260          79.765631   -46634.280464   \n",
       "-0.01              40.025736          84.201243   -59336.765368   \n",
       " 0.00              12.205231          85.716943   -73142.669368   \n",
       " 0.01             243.969440          83.772723    61932.907698   \n",
       " 0.02             196.052033          78.455809    49418.344753   \n",
       "\n",
       "           %_pe_delta_exposure  %_pe_option_price  vol_prices    wout_vol  \\\n",
       "moneyness                                                                   \n",
       "-0.02                 0.171045           6.023433   98.692492 -125.169862   \n",
       "-0.01                 0.141904           4.579153  107.197660 -151.373168   \n",
       " 0.00                 0.117191           3.401923  104.508035 -178.019747   \n",
       " 0.01                 0.135264           4.453415   90.406766   69.789951   \n",
       " 0.02                 0.158758           5.623058   68.691255   48.904969   \n",
       "\n",
       "                fac  vol_would_be  \n",
       "moneyness                          \n",
       "-0.02      1.808224    178.458122  \n",
       "-0.01      1.785477    191.398903  \n",
       " 0.00      1.820195    190.224978  \n",
       " 0.01      1.926620    174.179488  \n",
       " 0.02      2.142151    147.147064  "
      ]
     },
     "execution_count": 14,
     "metadata": {},
     "output_type": "execute_result"
    }
   ],
   "source": [
    "df"
   ]
  },
  {
   "cell_type": "code",
   "execution_count": null,
   "metadata": {
    "ExecuteTime": {
     "end_time": "2021-09-26T10:24:11.143958Z",
     "start_time": "2021-09-26T10:24:11.135859Z"
    }
   },
   "outputs": [],
   "source": [
    "oc1.time_to_expiry(), 1/oc1.time_to_expiry(), np.sqrt(oc1.time_to_expiry()), 1.0/np.sqrt(oc1.time_to_expiry())"
   ]
  },
  {
   "cell_type": "code",
   "execution_count": null,
   "metadata": {
    "ExecuteTime": {
     "end_time": "2021-09-26T10:23:15.959136Z",
     "start_time": "2021-09-26T10:23:15.946950Z"
    },
    "scrolled": true
   },
   "outputs": [],
   "source": [
    "oc1.df.fit_iv, 1.0/oc1.df.fit_iv"
   ]
  },
  {
   "cell_type": "code",
   "execution_count": null,
   "metadata": {
    "ExecuteTime": {
     "end_time": "2021-09-26T10:29:35.648072Z",
     "start_time": "2021-09-26T10:29:35.633245Z"
    }
   },
   "outputs": [],
   "source": [
    "oc1 = oc_pairs['HDFCBANK'][0]\n",
    "oc2 = oc_pairs['HDFCBANK'][1]\n",
    "\n",
    "model1 = IVPolynomial()\n",
    "model2 = IVPolynomial()\n",
    "\n",
    "oc1.fit_iv_model(model1)\n",
    "oc2.fit_iv_model(model2)"
   ]
  },
  {
   "cell_type": "code",
   "execution_count": null,
   "metadata": {
    "ExecuteTime": {
     "end_time": "2021-09-26T10:29:36.418241Z",
     "start_time": "2021-09-26T10:29:36.376465Z"
    }
   },
   "outputs": [],
   "source": [
    "max_moneyness=0.15\n",
    "moneys  = np.linspace(-max_moneyness, max_moneyness, num=int(5))\n",
    "strikes = oc1.future_price() * np.exp(moneys)\n",
    "res1    = oc1.ivs_prices_greeks(strikes)\n",
    "res1"
   ]
  },
  {
   "cell_type": "code",
   "execution_count": null,
   "metadata": {
    "ExecuteTime": {
     "end_time": "2021-09-26T10:29:36.961461Z",
     "start_time": "2021-09-26T10:29:36.899049Z"
    }
   },
   "outputs": [],
   "source": [
    "oc1.estimate_price_diff_df(oc2, max_moneyness=0.02)"
   ]
  },
  {
   "cell_type": "code",
   "execution_count": null,
   "metadata": {
    "ExecuteTime": {
     "end_time": "2021-09-26T10:29:39.866642Z",
     "start_time": "2021-09-26T10:29:39.799632Z"
    }
   },
   "outputs": [],
   "source": [
    "df = oc1.estimate_price_diff_df(oc2, max_moneyness=0.02)\n",
    "df['vol_prices'] = df['vol_0_price'] +  df['vol_1_price'] +  df['vol_2_price']\n",
    "df['wout_vol'] = df['delta_price'] + df['gamma_price'] + df['theta_price']\n",
    "df"
   ]
  },
  {
   "cell_type": "code",
   "execution_count": null,
   "metadata": {},
   "outputs": [],
   "source": []
  },
  {
   "cell_type": "code",
   "execution_count": null,
   "metadata": {
    "ExecuteTime": {
     "end_time": "2021-09-26T09:59:43.649441Z",
     "start_time": "2021-09-26T09:59:43.643291Z"
    }
   },
   "outputs": [],
   "source": [
    "oc1.time_to_expiry()"
   ]
  },
  {
   "cell_type": "code",
   "execution_count": 9,
   "metadata": {
    "ExecuteTime": {
     "end_time": "2021-09-26T10:31:27.239258Z",
     "start_time": "2021-09-26T10:31:27.235198Z"
    }
   },
   "outputs": [],
   "source": [
    "oc_pairs = ts.get_option_chain_pairs()\n",
    "\n",
    "model_1 = IVPolynomial(2)\n",
    "model_2 = SVIModel()\n",
    "# model_2 = IVPolynomial(2, smoothening=\"kernel_smoothening\")\n",
    "# model_3 = IVPolynomial(2, weighting=\"inverse_spread\")\n",
    "# model_4 = IVPolynomial(2, smoothening=\"kernel_smoothening\", weighting=\"inverse_spread\")\n",
    "\n",
    "models = [model_1, model_2]\n",
    "# models = [model_1, model_2, model_3, model_4]"
   ]
  },
  {
   "cell_type": "code",
   "execution_count": null,
   "metadata": {},
   "outputs": [],
   "source": []
  },
  {
   "cell_type": "code",
   "execution_count": 10,
   "metadata": {
    "ExecuteTime": {
     "end_time": "2021-09-26T10:31:39.986729Z",
     "start_time": "2021-09-26T10:31:28.226695Z"
    },
    "scrolled": true
   },
   "outputs": [],
   "source": [
    "model_errors = get_errors_for_models(oc_pairs, models)"
   ]
  },
  {
   "cell_type": "code",
   "execution_count": 11,
   "metadata": {
    "ExecuteTime": {
     "end_time": "2021-09-26T10:31:40.130122Z",
     "start_time": "2021-09-26T10:31:39.987829Z"
    },
    "scrolled": false
   },
   "outputs": [
    {
     "data": {
      "text/plain": [
       "<matplotlib.legend.Legend at 0x7f9cd5da54f0>"
      ]
     },
     "execution_count": 11,
     "metadata": {},
     "output_type": "execute_result"
    },
    {
     "data": {
      "image/png": "[encoded data removed]",
      "text/plain": [
       "<Figure size 864x504 with 1 Axes>"
      ]
     },
     "metadata": {
      "needs_background": "light"
     },
     "output_type": "display_data"
    }
   ],
   "source": [
    "fig, axs = plt.subplots(1, 1)\n",
    "fig.set_size_inches(12, 7)\n",
    "\n",
    "for tickerwise_e, aggregated_e in model_errors:\n",
    "    axs.hist(aggregated_e['ALL'], density=True, bins=20)\n",
    "axs.legend([f'model_{i+1}' for i in range(len(model_errors))])"
   ]
  },
  {
   "cell_type": "code",
   "execution_count": 12,
   "metadata": {
    "ExecuteTime": {
     "end_time": "2021-09-26T10:31:40.139484Z",
     "start_time": "2021-09-26T10:31:40.131756Z"
    }
   },
   "outputs": [
    {
     "data": {
      "text/html": [
       "<div>\n",
       "<style scoped>\n",
       "    .dataframe tbody tr th:only-of-type {\n",
       "        vertical-align: middle;\n",
       "    }\n",
       "\n",
       "    .dataframe tbody tr th {\n",
       "        vertical-align: top;\n",
       "    }\n",
       "\n",
       "    .dataframe thead th {\n",
       "        text-align: right;\n",
       "    }\n",
       "</style>\n",
       "<table border=\"1\" class=\"dataframe\">\n",
       "  <thead>\n",
       "    <tr style=\"text-align: right;\">\n",
       "      <th></th>\n",
       "      <th>model</th>\n",
       "      <th>pricing_mae</th>\n",
       "      <th>pricing_rmse</th>\n",
       "      <th>fit_mae</th>\n",
       "      <th>fit_rmse</th>\n",
       "    </tr>\n",
       "  </thead>\n",
       "  <tbody>\n",
       "    <tr>\n",
       "      <th>0</th>\n",
       "      <td>model_1</td>\n",
       "      <td>0.058377</td>\n",
       "      <td>0.080055</td>\n",
       "      <td>0.008094</td>\n",
       "      <td>0.009944</td>\n",
       "    </tr>\n",
       "    <tr>\n",
       "      <th>1</th>\n",
       "      <td>model_2</td>\n",
       "      <td>0.275441</td>\n",
       "      <td>0.297790</td>\n",
       "      <td>0.006395</td>\n",
       "      <td>0.008191</td>\n",
       "    </tr>\n",
       "  </tbody>\n",
       "</table>\n",
       "</div>"
      ],
      "text/plain": [
       "     model  pricing_mae  pricing_rmse   fit_mae  fit_rmse\n",
       "0  model_1     0.058377      0.080055  0.008094  0.009944\n",
       "1  model_2     0.275441      0.297790  0.006395  0.008191"
      ]
     },
     "execution_count": 12,
     "metadata": {},
     "output_type": "execute_result"
    }
   ],
   "source": [
    "rows = []\n",
    "for i, (tickerwise_e, aggregated_e) in enumerate(model_errors):\n",
    "    row = {\n",
    "        'model': f'model_{i+1}',\n",
    "        'pricing_mae' : np.mean(np.abs(aggregated_e['ALL'])),\n",
    "        'pricing_rmse' : np.sqrt(np.mean((aggregated_e['ALL'])**2)),\n",
    "        'fit_mae' : np.mean(np.abs(np.array(aggregated_e['fit_errors']))),\n",
    "        'fit_rmse' : np.sqrt(np.mean((np.array(aggregated_e['fit_errors']))**2)),\n",
    "    } \n",
    "    rows.append(row)\n",
    "\n",
    "pd.DataFrame(rows)"
   ]
  },
  {
   "cell_type": "code",
   "execution_count": null,
   "metadata": {},
   "outputs": [],
   "source": []
  },
  {
   "cell_type": "code",
   "execution_count": null,
   "metadata": {},
   "outputs": [],
   "source": []
  },
  {
   "cell_type": "code",
   "execution_count": null,
   "metadata": {},
   "outputs": [],
   "source": []
  },
  {
   "cell_type": "code",
   "execution_count": null,
   "metadata": {},
   "outputs": [],
   "source": []
  },
  {
   "cell_type": "code",
   "execution_count": null,
   "metadata": {
    "ExecuteTime": {
     "end_time": "2021-09-26T07:17:16.385380Z",
     "start_time": "2021-09-26T07:17:16.351402Z"
    }
   },
   "outputs": [],
   "source": [
    "oc_pairs['RELIANCE'][0].df"
   ]
  },
  {
   "cell_type": "code",
   "execution_count": null,
   "metadata": {},
   "outputs": [],
   "source": []
  },
  {
   "cell_type": "code",
   "execution_count": null,
   "metadata": {
    "ExecuteTime": {
     "end_time": "2021-09-26T06:45:36.975286Z",
     "start_time": "2021-09-26T06:45:36.973120Z"
    }
   },
   "outputs": [],
   "source": [
    "s = [1]\n",
    "s.extend(np.array([2, 3]))\n",
    "s"
   ]
  },
  {
   "cell_type": "code",
   "execution_count": null,
   "metadata": {
    "ExecuteTime": {
     "end_time": "2021-09-26T06:45:37.106825Z",
     "start_time": "2021-09-26T06:45:36.976163Z"
    }
   },
   "outputs": [],
   "source": [
    "kernel_smoothening(oc_pairs['IDEA'][0])"
   ]
  },
  {
   "cell_type": "code",
   "execution_count": null,
   "metadata": {
    "ExecuteTime": {
     "end_time": "2021-09-26T06:45:37.107918Z",
     "start_time": "2021-09-26T06:42:29.187Z"
    }
   },
   "outputs": [],
   "source": [
    "oc_pairs"
   ]
  },
  {
   "cell_type": "code",
   "execution_count": null,
   "metadata": {},
   "outputs": [],
   "source": []
  }
 ],
 "metadata": {
  "kernelspec": {
   "display_name": "Python 3",
   "language": "python",
   "name": "python3"
  },
  "language_info": {
   "codemirror_mode": {
    "name": "ipython",
    "version": 3
   },
   "file_extension": ".py",
   "mimetype": "text/x-python",
   "name": "python",
   "nbconvert_exporter": "python",
   "pygments_lexer": "ipython3",
   "version": "3.8.5"
  }
 },
 "nbformat": 4,
 "nbformat_minor": 4
}
