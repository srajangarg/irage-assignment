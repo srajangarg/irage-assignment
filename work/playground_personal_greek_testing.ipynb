{
 "cells": [
  {
   "cell_type": "code",
   "execution_count": 130,
   "metadata": {
    "ExecuteTime": {
     "end_time": "2021-08-29T09:57:52.791585Z",
     "start_time": "2021-08-29T09:57:52.787593Z"
    }
   },
   "outputs": [],
   "source": [
    "import importlib\n",
    "import pandas as pd\n",
    "import numpy as np\n",
    "import os\n",
    "import py_vollib_vectorized\n",
    "from datetime import datetime, timedelta\n",
    "import matplotlib.pyplot as plt\n",
    "import scipy"
   ]
  },
  {
   "cell_type": "code",
   "execution_count": 131,
   "metadata": {
    "ExecuteTime": {
     "end_time": "2021-08-29T09:59:48.854313Z",
     "start_time": "2021-08-29T09:59:48.840729Z"
    }
   },
   "outputs": [],
   "source": [
    "import classes, utils, iv_models\n",
    "_ = importlib.reload(classes)\n",
    "_ = importlib.reload(utils)\n",
    "_ = importlib.reload(iv_models)\n",
    "\n",
    "\n",
    "from classes import Ticker\n",
    "from utils import create_market_state\n",
    "from iv_models import BasicMidIVPolynomial, MidIV"
   ]
  },
  {
   "cell_type": "code",
   "execution_count": 132,
   "metadata": {
    "ExecuteTime": {
     "end_time": "2021-08-29T09:59:49.881782Z",
     "start_time": "2021-08-29T09:59:49.319568Z"
    }
   },
   "outputs": [
    {
     "name": "stdout",
     "output_type": "stream",
     "text": [
      "loading data from ./data/20210624/influxOP_AXISBANK21JUN_20210624.csv\n",
      "loading data from ./data/20210623/influxOP_AXISBANK21JUN_20210623.csv\n"
     ]
    }
   ],
   "source": [
    "t = Ticker(\"AXISBANK\", expiry_date=\"20210624\")\n",
    "oc1 = t.get_option_chain('20210623 09:30:00')\n",
    "oc2 = t.get_option_chain('20210623 11:30:00')\n",
    "oc1.fit_iv_model(BasicMidIVPolynomial(2))\n",
    "oc2.fit_iv_model(BasicMidIVPolynomial(2))"
   ]
  },
  {
   "cell_type": "code",
   "execution_count": 133,
   "metadata": {},
   "outputs": [
    {
     "data": {
      "text/html": [
       "<div>\n",
       "<style scoped>\n",
       "    .dataframe tbody tr th:only-of-type {\n",
       "        vertical-align: middle;\n",
       "    }\n",
       "\n",
       "    .dataframe tbody tr th {\n",
       "        vertical-align: top;\n",
       "    }\n",
       "\n",
       "    .dataframe thead th {\n",
       "        text-align: right;\n",
       "    }\n",
       "</style>\n",
       "<table border=\"1\" class=\"dataframe\">\n",
       "  <thead>\n",
       "    <tr style=\"text-align: right;\">\n",
       "      <th></th>\n",
       "      <th>strike</th>\n",
       "      <th>futPrice</th>\n",
       "      <th>moneyness</th>\n",
       "      <th>instrument</th>\n",
       "      <th>time_to_expiry</th>\n",
       "      <th>fit_iv</th>\n",
       "    </tr>\n",
       "  </thead>\n",
       "  <tbody>\n",
       "    <tr>\n",
       "      <th>0</th>\n",
       "      <td>74000</td>\n",
       "      <td>74187.5</td>\n",
       "      <td>-0.002531</td>\n",
       "      <td>p</td>\n",
       "      <td>0.003938</td>\n",
       "      <td>0.330073</td>\n",
       "    </tr>\n",
       "    <tr>\n",
       "      <th>1</th>\n",
       "      <td>75000</td>\n",
       "      <td>74187.5</td>\n",
       "      <td>0.010892</td>\n",
       "      <td>c</td>\n",
       "      <td>0.003938</td>\n",
       "      <td>0.327872</td>\n",
       "    </tr>\n",
       "    <tr>\n",
       "      <th>2</th>\n",
       "      <td>76000</td>\n",
       "      <td>74187.5</td>\n",
       "      <td>0.024138</td>\n",
       "      <td>c</td>\n",
       "      <td>0.003938</td>\n",
       "      <td>0.336023</td>\n",
       "    </tr>\n",
       "  </tbody>\n",
       "</table>\n",
       "</div>"
      ],
      "text/plain": [
       "   strike  futPrice  moneyness instrument  time_to_expiry    fit_iv\n",
       "0   74000   74187.5  -0.002531          p        0.003938  0.330073\n",
       "1   75000   74187.5   0.010892          c        0.003938  0.327872\n",
       "2   76000   74187.5   0.024138          c        0.003938  0.336023"
      ]
     },
     "execution_count": 133,
     "metadata": {},
     "output_type": "execute_result"
    }
   ],
   "source": [
    "df, greeks, price = oc1.personal_prices_greeks([74000, 75000, 76000])\n",
    "df"
   ]
  },
  {
   "cell_type": "code",
   "execution_count": 134,
   "metadata": {},
   "outputs": [
    {
     "data": {
      "text/html": [
       "<div>\n",
       "<style scoped>\n",
       "    .dataframe tbody tr th:only-of-type {\n",
       "        vertical-align: middle;\n",
       "    }\n",
       "\n",
       "    .dataframe tbody tr th {\n",
       "        vertical-align: top;\n",
       "    }\n",
       "\n",
       "    .dataframe thead th {\n",
       "        text-align: right;\n",
       "    }\n",
       "</style>\n",
       "<table border=\"1\" class=\"dataframe\">\n",
       "  <thead>\n",
       "    <tr style=\"text-align: right;\">\n",
       "      <th></th>\n",
       "      <th>delta</th>\n",
       "      <th>gamma1</th>\n",
       "      <th>gamma2</th>\n",
       "      <th>theta</th>\n",
       "      <th>rho</th>\n",
       "      <th>vega1</th>\n",
       "      <th>vega2</th>\n",
       "    </tr>\n",
       "  </thead>\n",
       "  <tbody>\n",
       "    <tr>\n",
       "      <th>0</th>\n",
       "      <td>-0.447281</td>\n",
       "      <td>0.000360</td>\n",
       "      <td>0.000353</td>\n",
       "      <td>-107843.540690</td>\n",
       "      <td>-132.722861</td>\n",
       "      <td>2573.095109</td>\n",
       "      <td>2528.507704</td>\n",
       "    </tr>\n",
       "    <tr>\n",
       "      <th>1</th>\n",
       "      <td>0.301834</td>\n",
       "      <td>0.000198</td>\n",
       "      <td>0.000195</td>\n",
       "      <td>-58499.638072</td>\n",
       "      <td>87.032840</td>\n",
       "      <td>1405.142821</td>\n",
       "      <td>1386.954328</td>\n",
       "    </tr>\n",
       "    <tr>\n",
       "      <th>2</th>\n",
       "      <td>0.128357</td>\n",
       "      <td>0.000082</td>\n",
       "      <td>0.000081</td>\n",
       "      <td>-25495.765482</td>\n",
       "      <td>37.105304</td>\n",
       "      <td>597.545371</td>\n",
       "      <td>591.309692</td>\n",
       "    </tr>\n",
       "  </tbody>\n",
       "</table>\n",
       "</div>"
      ],
      "text/plain": [
       "      delta    gamma1    gamma2          theta         rho        vega1  \\\n",
       "0 -0.447281  0.000360  0.000353 -107843.540690 -132.722861  2573.095109   \n",
       "1  0.301834  0.000198  0.000195  -58499.638072   87.032840  1405.142821   \n",
       "2  0.128357  0.000082  0.000081  -25495.765482   37.105304   597.545371   \n",
       "\n",
       "         vega2  \n",
       "0  2528.507704  \n",
       "1  1386.954328  \n",
       "2   591.309692  "
      ]
     },
     "execution_count": 134,
     "metadata": {},
     "output_type": "execute_result"
    }
   ],
   "source": [
    "greeks"
   ]
  },
  {
   "cell_type": "code",
   "execution_count": 135,
   "metadata": {},
   "outputs": [
    {
     "data": {
      "text/html": [
       "<div>\n",
       "<style scoped>\n",
       "    .dataframe tbody tr th:only-of-type {\n",
       "        vertical-align: middle;\n",
       "    }\n",
       "\n",
       "    .dataframe tbody tr th {\n",
       "        vertical-align: top;\n",
       "    }\n",
       "\n",
       "    .dataframe thead th {\n",
       "        text-align: right;\n",
       "    }\n",
       "</style>\n",
       "<table border=\"1\" class=\"dataframe\">\n",
       "  <thead>\n",
       "    <tr style=\"text-align: right;\">\n",
       "      <th></th>\n",
       "      <th>price</th>\n",
       "    </tr>\n",
       "  </thead>\n",
       "  <tbody>\n",
       "    <tr>\n",
       "      <th>0</th>\n",
       "      <td>523.044371</td>\n",
       "    </tr>\n",
       "    <tr>\n",
       "      <th>1</th>\n",
       "      <td>289.851607</td>\n",
       "    </tr>\n",
       "    <tr>\n",
       "      <th>2</th>\n",
       "      <td>99.371704</td>\n",
       "    </tr>\n",
       "  </tbody>\n",
       "</table>\n",
       "</div>"
      ],
      "text/plain": [
       "        price\n",
       "0  523.044371\n",
       "1  289.851607\n",
       "2   99.371704"
      ]
     },
     "execution_count": 135,
     "metadata": {},
     "output_type": "execute_result"
    }
   ],
   "source": [
    "price"
   ]
  },
  {
   "cell_type": "code",
   "execution_count": 129,
   "metadata": {},
   "outputs": [
    {
     "data": {
      "text/html": [
       "<div>\n",
       "<style scoped>\n",
       "    .dataframe tbody tr th:only-of-type {\n",
       "        vertical-align: middle;\n",
       "    }\n",
       "\n",
       "    .dataframe tbody tr th {\n",
       "        vertical-align: top;\n",
       "    }\n",
       "\n",
       "    .dataframe thead th {\n",
       "        text-align: right;\n",
       "    }\n",
       "</style>\n",
       "<table border=\"1\" class=\"dataframe\">\n",
       "  <thead>\n",
       "    <tr style=\"text-align: right;\">\n",
       "      <th></th>\n",
       "      <th>price</th>\n",
       "    </tr>\n",
       "  </thead>\n",
       "  <tbody>\n",
       "    <tr>\n",
       "      <th>0</th>\n",
       "      <td>523.044371</td>\n",
       "    </tr>\n",
       "    <tr>\n",
       "      <th>1</th>\n",
       "      <td>289.851607</td>\n",
       "    </tr>\n",
       "    <tr>\n",
       "      <th>2</th>\n",
       "      <td>99.371704</td>\n",
       "    </tr>\n",
       "  </tbody>\n",
       "</table>\n",
       "</div>"
      ],
      "text/plain": [
       "        price\n",
       "0  523.044371\n",
       "1  289.851607\n",
       "2   99.371704"
      ]
     },
     "execution_count": 129,
     "metadata": {},
     "output_type": "execute_result"
    }
   ],
   "source": [
    "# s/k vector\n",
    "s_vec = df.futPrice.values\n",
    "k_vec = df.strike.values\n",
    "d_sk = np.log(np.divide(s_vec,k_vec))\n",
    "nlen = df.futPrice.values.shape[0]\n",
    "# interest rate\n",
    "r = np.zeros(nlen)\n",
    "# dividends\n",
    "q = np.zeros(nlen)\n",
    "sigma = df.fit_iv.values\n",
    "t1 = df.time_to_expiry.values\n",
    "# Calculate d1\n",
    "d1 = (d_sk+((r-q+np.power(sigma,2)/2)*(t1)))/(sigma*np.power(t1,0.5))\n",
    "# Calculate cdf of d1\n",
    "cdf_d1 = scipy.stats.norm.cdf(d1)\n",
    "df['cdf_d1'] = d1\n",
    "# Delta in Put is CDF(-d1)\n",
    "df['cdf_d1_signed']     = np.where(df['instrument'] == 'c', cdf_d1, (1-cdf_d1))\n",
    "e_qt = np.exp(-1*q*t1)\n",
    "e_rt = np.exp(-1*r*t1)\n",
    "df['e_qt'] = e_qt\n",
    "# Delta in Put has negative sign\n",
    "df['e_qt_with_delta_sign']     = np.where(df['instrument'] == 'c', e_qt, -1*e_qt)\n",
    "df['delta'] = df['e_qt_with_delta_sign']*df['cdf_d1_signed'] \n",
    "\n",
    "\n",
    "# Calculate d2 using d1\n",
    "d2 = d1-sigma*np.power(t1,0.5)\n",
    "cdf_d2 = scipy.stats.norm.cdf(d2)\n",
    "df['cdf_d2'] =  cdf_d2\n",
    "# use vega from wikipedia\n",
    "vega1 = s_vec*e_qt*cdf_d1*np.power(t1,0.5)\n",
    "vega2 = k_vec*e_rt*cdf_d2*np.power(t1,0.5)\n",
    "df['vega1'] = vega1\n",
    "df['vega2'] = vega2\n",
    "\n",
    "\n",
    "# rho has negative d2 in put\n",
    "df['cdf_d2_signed'] =  np.where(df['instrument'] == 'c', cdf_d2, (1-cdf_d2))\n",
    "rho_unsigned = df.cdf_d2_signed.values * t1*k_vec*e_rt\n",
    "df['rho_unsigned'] = rho_unsigned\n",
    "# rho has a negative sign outside in put formula\n",
    "df['rho'] =  np.where(df['instrument'] == 'c', rho_unsigned, -1*rho_unsigned)\n",
    "\n",
    "\n",
    "# gamma - formula 1\n",
    "df['gamma1'] = np.divide(e_qt*cdf_d1,s_vec*sigma*np.power(t1,0.5))\n",
    "df['gamma2'] = np.divide(k_vec*e_rt*cdf_d2,sigma*np.power(t1,0.5)*np.power(s_vec,2))\n",
    "\n",
    "theta_t1 = -1 * np.divide((e_qt*s_vec*cdf_d1*sigma),(2*np.power(t1,0.5)))\n",
    "\n",
    "cdf_d2_signed = df['cdf_d2_signed'].values\n",
    "cdf_d1_signed = df['cdf_d1_signed'].values\n",
    "theta_t2 = -1*r*k_vec*e_rt*cdf_d2_signed\n",
    "theta_t3 = q*s_vec*e_qt*cdf_d1_signed\n",
    "theta_t23 = theta_t2+theta_t3\n",
    "\n",
    "df['theta_t1'] = theta_t1\n",
    "df['theta_t23'] = theta_t23\n",
    "df['theta_t23_signed'] =  np.where(df['instrument'] == 'c', theta_t23, -1*theta_t23)\n",
    "\n",
    "df['theta'] = df['theta_t23_signed'].values+theta_t1\n",
    "\n",
    "price_unsigned = s_vec*np.exp((r-q)*t1)*cdf_d1_signed-k_vec*cdf_d2_signed\n",
    "df['price_unsigned'] = price_unsigned\n",
    "df['price_undiscounted'] =  np.where(df['instrument'] == 'c', price_unsigned, -1*price_unsigned)\n",
    "\n",
    "df['price'] =  df.price_undiscounted.values*e_rt\n",
    "\n",
    "df1 = df[['strike',\t'futPrice',\t'moneyness',\t'instrument',\t'time_to_expiry',\t'fit_iv']]\n",
    "\n",
    "df2 = df[['delta',\t'gamma1','gamma2',\t'theta',\t'rho',\t'vega1','vega2']]\n",
    "df3 = df[['price']]\n",
    "df3"
   ]
  },
  {
   "cell_type": "code",
   "execution_count": 117,
   "metadata": {},
   "outputs": [],
   "source": [
    "price_unsigned = s_vec*np.exp((r-q)*t1)*cdf_d1_signed-k_vec*cdf_d2_signed"
   ]
  },
  {
   "cell_type": "code",
   "execution_count": 112,
   "metadata": {},
   "outputs": [],
   "source": []
  },
  {
   "cell_type": "code",
   "execution_count": 97,
   "metadata": {},
   "outputs": [
    {
     "data": {
      "text/plain": [
       "array([2528.50770392, 1386.95432803,  591.30969241])"
      ]
     },
     "execution_count": 97,
     "metadata": {},
     "output_type": "execute_result"
    }
   ],
   "source": []
  },
  {
   "cell_type": "code",
   "execution_count": 93,
   "metadata": {},
   "outputs": [
    {
     "data": {
      "text/plain": [
       "array([ 0.11182055, -0.53970617, -1.15527842])"
      ]
     },
     "execution_count": 93,
     "metadata": {},
     "output_type": "execute_result"
    }
   ],
   "source": [
    "d2"
   ]
  },
  {
   "cell_type": "code",
   "execution_count": null,
   "metadata": {},
   "outputs": [],
   "source": [
    "cdf_d1*np.power(t1,0.5)*e_qr * s_vec"
   ]
  },
  {
   "cell_type": "code",
   "execution_count": null,
   "metadata": {},
   "outputs": [],
   "source": []
  },
  {
   "cell_type": "code",
   "execution_count": 29,
   "metadata": {},
   "outputs": [
    {
     "data": {
      "text/html": [
       "<div>\n",
       "<style scoped>\n",
       "    .dataframe tbody tr th:only-of-type {\n",
       "        vertical-align: middle;\n",
       "    }\n",
       "\n",
       "    .dataframe tbody tr th {\n",
       "        vertical-align: top;\n",
       "    }\n",
       "\n",
       "    .dataframe thead th {\n",
       "        text-align: right;\n",
       "    }\n",
       "</style>\n",
       "<table border=\"1\" class=\"dataframe\">\n",
       "  <thead>\n",
       "    <tr style=\"text-align: right;\">\n",
       "      <th></th>\n",
       "      <th>delta</th>\n",
       "      <th>gamma</th>\n",
       "      <th>theta</th>\n",
       "      <th>rho</th>\n",
       "      <th>vega</th>\n",
       "    </tr>\n",
       "  </thead>\n",
       "  <tbody>\n",
       "    <tr>\n",
       "      <th>0</th>\n",
       "      <td>-0.447281</td>\n",
       "      <td>0.000257</td>\n",
       "      <td>-270.850556</td>\n",
       "      <td>-1.327229</td>\n",
       "      <td>18.409612</td>\n",
       "    </tr>\n",
       "    <tr>\n",
       "      <th>1</th>\n",
       "      <td>0.301834</td>\n",
       "      <td>0.000228</td>\n",
       "      <td>-213.765215</td>\n",
       "      <td>0.870329</td>\n",
       "      <td>16.228923</td>\n",
       "    </tr>\n",
       "    <tr>\n",
       "      <th>2</th>\n",
       "      <td>0.128357</td>\n",
       "      <td>0.000134</td>\n",
       "      <td>-93.327525</td>\n",
       "      <td>0.371053</td>\n",
       "      <td>9.758503</td>\n",
       "    </tr>\n",
       "  </tbody>\n",
       "</table>\n",
       "</div>"
      ],
      "text/plain": [
       "      delta     gamma       theta       rho       vega\n",
       "0 -0.447281  0.000257 -270.850556 -1.327229  18.409612\n",
       "1  0.301834  0.000228 -213.765215  0.870329  16.228923\n",
       "2  0.128357  0.000134  -93.327525  0.371053   9.758503"
      ]
     },
     "execution_count": 29,
     "metadata": {},
     "output_type": "execute_result"
    }
   ],
   "source": [
    "greeks"
   ]
  },
  {
   "cell_type": "code",
   "execution_count": 18,
   "metadata": {
    "ExecuteTime": {
     "end_time": "2021-08-29T10:15:47.779657Z",
     "start_time": "2021-08-29T10:15:47.731666Z"
    }
   },
   "outputs": [
    {
     "data": {
      "text/html": [
       "<div>\n",
       "<style scoped>\n",
       "    .dataframe tbody tr th:only-of-type {\n",
       "        vertical-align: middle;\n",
       "    }\n",
       "\n",
       "    .dataframe tbody tr th {\n",
       "        vertical-align: top;\n",
       "    }\n",
       "\n",
       "    .dataframe thead th {\n",
       "        text-align: right;\n",
       "    }\n",
       "</style>\n",
       "<table border=\"1\" class=\"dataframe\">\n",
       "  <thead>\n",
       "    <tr style=\"text-align: right;\">\n",
       "      <th></th>\n",
       "      <th>strike</th>\n",
       "      <th>futPrice</th>\n",
       "      <th>moneyness</th>\n",
       "      <th>instrument</th>\n",
       "      <th>time_to_expiry</th>\n",
       "      <th>fit_iv</th>\n",
       "    </tr>\n",
       "  </thead>\n",
       "  <tbody>\n",
       "    <tr>\n",
       "      <th>0</th>\n",
       "      <td>74000</td>\n",
       "      <td>74187.5</td>\n",
       "      <td>-0.002531</td>\n",
       "      <td>p</td>\n",
       "      <td>0.003938</td>\n",
       "      <td>0.330073</td>\n",
       "    </tr>\n",
       "    <tr>\n",
       "      <th>1</th>\n",
       "      <td>75000</td>\n",
       "      <td>74187.5</td>\n",
       "      <td>0.010892</td>\n",
       "      <td>c</td>\n",
       "      <td>0.003938</td>\n",
       "      <td>0.327872</td>\n",
       "    </tr>\n",
       "    <tr>\n",
       "      <th>2</th>\n",
       "      <td>76000</td>\n",
       "      <td>74187.5</td>\n",
       "      <td>0.024138</td>\n",
       "      <td>c</td>\n",
       "      <td>0.003938</td>\n",
       "      <td>0.336023</td>\n",
       "    </tr>\n",
       "  </tbody>\n",
       "</table>\n",
       "</div>"
      ],
      "text/plain": [
       "   strike  futPrice  moneyness instrument  time_to_expiry    fit_iv\n",
       "0   74000   74187.5  -0.002531          p        0.003938  0.330073\n",
       "1   75000   74187.5   0.010892          c        0.003938  0.327872\n",
       "2   76000   74187.5   0.024138          c        0.003938  0.336023"
      ]
     },
     "execution_count": 18,
     "metadata": {},
     "output_type": "execute_result"
    }
   ],
   "source": [
    "df, greeks, price = oc1.ivs_prices_greeks([74000, 75000, 76000])\n",
    "df"
   ]
  },
  {
   "cell_type": "code",
   "execution_count": 19,
   "metadata": {
    "ExecuteTime": {
     "end_time": "2021-08-29T10:16:22.056127Z",
     "start_time": "2021-08-29T10:16:22.051245Z"
    }
   },
   "outputs": [
    {
     "data": {
      "text/html": [
       "<div>\n",
       "<style scoped>\n",
       "    .dataframe tbody tr th:only-of-type {\n",
       "        vertical-align: middle;\n",
       "    }\n",
       "\n",
       "    .dataframe tbody tr th {\n",
       "        vertical-align: top;\n",
       "    }\n",
       "\n",
       "    .dataframe thead th {\n",
       "        text-align: right;\n",
       "    }\n",
       "</style>\n",
       "<table border=\"1\" class=\"dataframe\">\n",
       "  <thead>\n",
       "    <tr style=\"text-align: right;\">\n",
       "      <th></th>\n",
       "      <th>delta</th>\n",
       "      <th>gamma</th>\n",
       "      <th>theta</th>\n",
       "      <th>rho</th>\n",
       "      <th>vega</th>\n",
       "    </tr>\n",
       "  </thead>\n",
       "  <tbody>\n",
       "    <tr>\n",
       "      <th>0</th>\n",
       "      <td>-0.447281</td>\n",
       "      <td>0.000257</td>\n",
       "      <td>-270.850556</td>\n",
       "      <td>-1.327229</td>\n",
       "      <td>18.409612</td>\n",
       "    </tr>\n",
       "    <tr>\n",
       "      <th>1</th>\n",
       "      <td>0.301834</td>\n",
       "      <td>0.000228</td>\n",
       "      <td>-213.765215</td>\n",
       "      <td>0.870329</td>\n",
       "      <td>16.228923</td>\n",
       "    </tr>\n",
       "    <tr>\n",
       "      <th>2</th>\n",
       "      <td>0.128357</td>\n",
       "      <td>0.000134</td>\n",
       "      <td>-93.327525</td>\n",
       "      <td>0.371053</td>\n",
       "      <td>9.758503</td>\n",
       "    </tr>\n",
       "  </tbody>\n",
       "</table>\n",
       "</div>"
      ],
      "text/plain": [
       "      delta     gamma       theta       rho       vega\n",
       "0 -0.447281  0.000257 -270.850556 -1.327229  18.409612\n",
       "1  0.301834  0.000228 -213.765215  0.870329  16.228923\n",
       "2  0.128357  0.000134  -93.327525  0.371053   9.758503"
      ]
     },
     "execution_count": 19,
     "metadata": {},
     "output_type": "execute_result"
    }
   ],
   "source": [
    "greeks"
   ]
  },
  {
   "cell_type": "code",
   "execution_count": 21,
   "metadata": {
    "ExecuteTime": {
     "end_time": "2021-08-29T10:04:39.040000Z",
     "start_time": "2021-08-29T10:04:38.983940Z"
    }
   },
   "outputs": [
    {
     "data": {
      "text/html": [
       "<div>\n",
       "<style scoped>\n",
       "    .dataframe tbody tr th:only-of-type {\n",
       "        vertical-align: middle;\n",
       "    }\n",
       "\n",
       "    .dataframe tbody tr th {\n",
       "        vertical-align: top;\n",
       "    }\n",
       "\n",
       "    .dataframe thead th {\n",
       "        text-align: right;\n",
       "    }\n",
       "</style>\n",
       "<table border=\"1\" class=\"dataframe\">\n",
       "  <thead>\n",
       "    <tr style=\"text-align: right;\">\n",
       "      <th></th>\n",
       "      <th>Price</th>\n",
       "    </tr>\n",
       "  </thead>\n",
       "  <tbody>\n",
       "    <tr>\n",
       "      <th>0</th>\n",
       "      <td>523.044371</td>\n",
       "    </tr>\n",
       "    <tr>\n",
       "      <th>1</th>\n",
       "      <td>289.851607</td>\n",
       "    </tr>\n",
       "    <tr>\n",
       "      <th>2</th>\n",
       "      <td>99.371704</td>\n",
       "    </tr>\n",
       "  </tbody>\n",
       "</table>\n",
       "</div>"
      ],
      "text/plain": [
       "        Price\n",
       "0  523.044371\n",
       "1  289.851607\n",
       "2   99.371704"
      ]
     },
     "execution_count": 21,
     "metadata": {},
     "output_type": "execute_result"
    }
   ],
   "source": [
    "price"
   ]
  },
  {
   "cell_type": "code",
   "execution_count": null,
   "metadata": {
    "ExecuteTime": {
     "end_time": "2021-08-29T10:20:53.618036Z",
     "start_time": "2021-08-29T10:20:53.591959Z"
    }
   },
   "outputs": [],
   "source": [
    "oc1.df[oc1.df['strike'] == 74000]"
   ]
  },
  {
   "cell_type": "code",
   "execution_count": null,
   "metadata": {
    "ExecuteTime": {
     "end_time": "2021-08-29T10:20:53.813254Z",
     "start_time": "2021-08-29T10:20:53.785901Z"
    },
    "scrolled": true
   },
   "outputs": [],
   "source": [
    "oc2.df[oc2.df['strike'] == 74000]"
   ]
  },
  {
   "cell_type": "code",
   "execution_count": null,
   "metadata": {
    "ExecuteTime": {
     "end_time": "2021-08-29T10:27:14.346650Z",
     "start_time": "2021-08-29T10:27:14.341122Z"
    }
   },
   "outputs": [],
   "source": [
    "334.998764 + 18.258711 * (0.2152 - 0.227586) * 100 - 35.217181  -0.042049 * 365"
   ]
  },
  {
   "cell_type": "code",
   "execution_count": null,
   "metadata": {
    "ExecuteTime": {
     "end_time": "2021-08-29T09:08:44.117664Z",
     "start_time": "2021-08-29T09:08:44.110397Z"
    }
   },
   "outputs": [],
   "source": [
    "oc2.iv_parameters()"
   ]
  },
  {
   "cell_type": "code",
   "execution_count": null,
   "metadata": {
    "ExecuteTime": {
     "end_time": "2021-08-29T09:08:53.661894Z",
     "start_time": "2021-08-29T09:08:53.656778Z"
    }
   },
   "outputs": [],
   "source": [
    "oc1.iv_parameters()"
   ]
  },
  {
   "cell_type": "code",
   "execution_count": null,
   "metadata": {
    "ExecuteTime": {
     "end_time": "2021-08-29T10:27:04.669596Z",
     "start_time": "2021-08-29T10:27:04.663970Z"
    }
   },
   "outputs": [],
   "source": [
    "-0.042049 * 365"
   ]
  },
  {
   "cell_type": "code",
   "execution_count": null,
   "metadata": {
    "ExecuteTime": {
     "end_time": "2021-08-29T10:00:39.392485Z",
     "start_time": "2021-08-29T10:00:39.374089Z"
    }
   },
   "outputs": [],
   "source": [
    "delta_diff = res1['delta'] * (oc2.future_price() - oc1.future_price()) \n",
    "gamma_diff = res1['gamma'] * (res2['delta'] - res1['delta']) \n",
    "theta_diff = res1['theta'] * (oc1.time_to_expiry() - oc2.time_to_expiry())\n",
    "\n",
    "print(\"delta_diff\", delta_diff)\n",
    "print(\"gamma_diff\", gamma_diff)\n",
    "print(\"theta_diff\", theta_diff)"
   ]
  },
  {
   "cell_type": "code",
   "execution_count": null,
   "metadata": {
    "ExecuteTime": {
     "end_time": "2021-08-29T10:01:47.529363Z",
     "start_time": "2021-08-29T10:01:47.493319Z"
    }
   },
   "outputs": [],
   "source": [
    "s = 0\n",
    "\n",
    "for i in range(len(oc1.iv_parameters())):\n",
    "    s += res1['vega'] * res1[f'greek_{i}'] * (oc2.iv_parameters()[i] - oc1.iv_parameters()[i])\n",
    "s"
   ]
  },
  {
   "cell_type": "code",
   "execution_count": null,
   "metadata": {
    "ExecuteTime": {
     "end_time": "2021-08-29T09:09:53.957255Z",
     "start_time": "2021-08-29T09:09:53.947375Z"
    }
   },
   "outputs": [],
   "source": [
    "8.010609 * (1.0 * (0.33292242 - 0.31478401) + 0.028021 * (-0.12406091 + 0.11291487) )"
   ]
  },
  {
   "cell_type": "code",
   "execution_count": null,
   "metadata": {},
   "outputs": [],
   "source": []
  }
 ],
 "metadata": {
  "kernelspec": {
   "display_name": "Python 3",
   "language": "python",
   "name": "python3"
  },
  "language_info": {
   "codemirror_mode": {
    "name": "ipython",
    "version": 3
   },
   "file_extension": ".py",
   "mimetype": "text/x-python",
   "name": "python",
   "nbconvert_exporter": "python",
   "pygments_lexer": "ipython3",
   "version": "3.8.5"
  }
 },
 "nbformat": 4,
 "nbformat_minor": 4
}
